{
 "cells": [
  {
   "cell_type": "markdown",
   "id": "f55e6869-2956-4b82-b8d3-5c2407796136",
   "metadata": {},
   "source": [
    "# **Model selection for prediction of mpg of cars and possible explanatory variables**"
   ]
  },
  {
   "cell_type": "markdown",
   "id": "37e999c5-58e1-4d01-9ee3-0ef4b7bcfc25",
   "metadata": {},
   "source": [
    "Group 25"
   ]
  },
  {
   "cell_type": "markdown",
   "id": "93aa6ace-f043-4636-bd95-cc5578cf8f0f",
   "metadata": {},
   "source": [
    "Team members: Felix Li, Naaimur Reza, ... "
   ]
  },
  {
   "cell_type": "code",
   "execution_count": null,
   "id": "911c0570-f43c-47fb-a7f6-f3b34daf1086",
   "metadata": {},
   "outputs": [],
   "source": [
    "library(tidyverse)\n",
    "library(tidymodels)\n",
    "library(repr)\n",
    "library(infer)\n",
    "library(cowplot)\n",
    "library(broom)\n",
    "library(GGally)\n",
    "library(AER)\n",
    "\n",
    "set.seed(1111)"
   ]
  },
  {
   "cell_type": "markdown",
   "id": "57f7cdb0-6c35-45b8-b50d-52a4daeef9b4",
   "metadata": {},
   "source": [
    "# Introduction"
   ]
  },
  {
   "cell_type": "markdown",
   "id": "29c080af-91b4-4c21-8e03-fb6921bd780d",
   "metadata": {},
   "source": [
    "https://archive.ics.uci.edu/ml/datasets/Auto+MPG"
   ]
  },
  {
   "cell_type": "markdown",
   "id": "254c1874-514e-4ba5-8749-7a5615395513",
   "metadata": {},
   "source": [
    "# Preliminary Results"
   ]
  },
  {
   "cell_type": "code",
   "execution_count": null,
   "id": "a8302b05-98e4-4149-9f8a-5e15554a71ef",
   "metadata": {},
   "outputs": [],
   "source": [
    "mpg_data <- read.delim(\"auto-mpg-1.data\",  header = FALSE, sep= \"\")\n",
    "head(mpg_data)"
   ]
  },
  {
   "cell_type": "markdown",
   "id": "34e82bc8-f68b-474e-adea-f4bd0676039e",
   "metadata": {},
   "source": [
    "**Explanation**: The raw data is auto-mpg-1.data with 9 columns V1-V9 including data type real number, integer and catergorical"
   ]
  },
  {
   "cell_type": "code",
   "execution_count": null,
   "id": "c845ba50-5de0-4f7a-bbc1-183c5b49633b",
   "metadata": {},
   "outputs": [],
   "source": [
    "mpg_data_2 <- mpg_data %>% mutate(mpg = V1, cylinders = V2, displacement =V3, hoursepower = V4, \n",
    "                    weight = V5, acceleration = V6, model_year = V7, origin = V8)\n",
    "\n",
    "mpg_data_tidy <- mpg_data_2 %>% select(mpg,cylinders,displacement,hoursepower,weight,acceleration,model_year,origin)\n",
    "\n",
    "mpg_data_tidy$cylinders <- as.factor(mpg_data_tidy$cylinders)\n",
    "mpg_data_tidy$hoursepower <- as.integer(mpg_data_tidy$hoursepower)\n",
    "\n",
    "tidy_data_2 <- mpg_data_tidy %>% select(mpg,cylinders,displacement,hoursepower,weight,acceleration)\n",
    "\n",
    "tidy_data <- filter(tidy_data_2, !is.na(tidy_data_2$hoursepower))\n",
    "head(tidy_data)\n",
    "levels(tidy_data$cylinders)"
   ]
  },
  {
   "cell_type": "markdown",
   "id": "bc45ab27-b73e-4830-bf70-b096e8258e20",
   "metadata": {},
   "source": [
    "**Explanation**: we rename all the columns to proper names and turn the type of cylinders into factor since it is a categorical variable with only 5 types. And we delete rows with a missing data. Also turn the type of houserpower into integer and then we get rid of column V7,V8,V9 which represents car name, model_year,and origin. car name includes over 100 different strings and it makes no sense to turn it into a categorical variable,so we decide to take alway this column, for model_year, it is a discrete variable which is also over 10 different types,so we decide to get rid of it. For origin the data does not provide information with what 1,2,3 represent so we won't use this column"
   ]
  },
  {
   "cell_type": "code",
   "execution_count": null,
   "id": "f1e312ed-f26b-45d3-a4ca-c0516c0f1855",
   "metadata": {},
   "outputs": [],
   "source": [
    "options(repr.plot.width = 15, repr.plot.height = 12)\n",
    "\n",
    "correlation_plots <- tidy_data %>%\n",
    "  select(- cylinders) %>%\n",
    "  ggpairs(progress = FALSE) +\n",
    "  theme(\n",
    "    text = element_text(size = 15),\n",
    "    plot.title = element_text(face = \"bold\"),\n",
    "    axis.title = element_text(face = \"bold\")\n",
    "  )\n",
    "correlation_plots"
   ]
  },
  {
   "cell_type": "code",
   "execution_count": null,
   "id": "91b6522d-b0de-4c55-a720-95678251c0db",
   "metadata": {},
   "outputs": [],
   "source": []
  },
  {
   "cell_type": "code",
   "execution_count": null,
   "id": "8df73f7d",
   "metadata": {},
   "outputs": [],
   "source": []
  }
 ],
 "metadata": {
  "kernelspec": {
   "display_name": "R",
   "language": "R",
   "name": "ir"
  },
  "language_info": {
   "codemirror_mode": "r",
   "file_extension": ".r",
   "mimetype": "text/x-r-source",
   "name": "R",
   "pygments_lexer": "r",
   "version": "4.1.3"
  }
 },
 "nbformat": 4,
 "nbformat_minor": 5
}