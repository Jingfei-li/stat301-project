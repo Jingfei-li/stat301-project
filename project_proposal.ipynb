{
 "cells": [
  {
   "cell_type": "markdown",
   "id": "51d70e7d",
   "metadata": {},
   "source": [
    "# **Model Selection for Prediction of MPG of Cars and Possible Explanatory Variables**"
   ]
  },
  {
   "cell_type": "markdown",
   "id": "93aa6ace-f043-4636-bd95-cc5578cf8f0f",
   "metadata": {},
   "source": [
    "#### Authors: Felix Li, Naaimur Reza, Nitahi Escolar Bach & Yingshan Wu"
   ]
  },
  {
   "cell_type": "markdown",
   "id": "57f7cdb0-6c35-45b8-b50d-52a4daeef9b4",
   "metadata": {},
   "source": [
    "## Introduction"
   ]
  },
  {
   "cell_type": "markdown",
   "id": "29c080af-91b4-4c21-8e03-fb6921bd780d",
   "metadata": {},
   "source": [
    "Canada's climate poses special challenges for fuel-efficient driving. Besides factors such as weather, road conditions\n",
    "and traffic conditions other more universal factors such as a car's weight, horsepower, and number of cylinders in has\n",
    "can also affect fuel efficiency. Furthermore, Canada's GHG emmision standards are becoming more strict and with fuel\n",
    "prices on the rise it's important to learn how and which factors affect the mileage of one's vehicle and be able to\n",
    "predict the MPG(**Miles Per Gallon**) given external factors. **Our project aims to present all possible linear regression models(in the scope of this class) for predicting MPG and answer which\n",
    "model is the best.**\n",
    "\n",
    "For our predictive analysis we have decided to use \"Auto MPG Data Set\" taken from the StatLib library which is maintained at Carnegie Mellon University. The dataset was used in the 1983 American Statistical Association Exposition. Attributes include city-cycle fuel consumption in miles per gallon, number of cylinders, displacement, horsepower, weight, acceleration, car model year, origin and car name.\n",
    "\n",
    "Two academic studies that we deemed relevant for this study are: Neelesh A. Patankar, Jane Lin & Tanvee N. Patankar(2021) claimed fuel economy (measured in mpgge) is an absolute measure and tells little about the real mileage efficiency of a car, because efficiency is a relative measure depending on both the input and output and, does not take into account external factors such as road infrastructure and driving conditions. Zoe L., Christine K., Reuven S. & Jonn A. (2021) found that presentation of fuel economy information may increase selection of efficient vehicles."
   ]
  },
  {
   "cell_type": "markdown",
   "id": "254c1874-514e-4ba5-8749-7a5615395513",
   "metadata": {},
   "source": [
    "## Method and Result"
   ]
  },
  {
   "cell_type": "code",
   "execution_count": 1,
   "id": "a8302b05-98e4-4149-9f8a-5e15554a71ef",
   "metadata": {
    "vscode": {
     "languageId": "r"
    }
   },
   "outputs": [
    {
     "name": "stderr",
     "output_type": "stream",
     "text": [
      "── \u001b[1mAttaching packages\u001b[22m ─────────────────────────────────────── tidyverse 1.3.2 ──\n",
      "\u001b[32m✔\u001b[39m \u001b[34mggplot2\u001b[39m 3.3.6      \u001b[32m✔\u001b[39m \u001b[34mpurrr  \u001b[39m 0.3.5 \n",
      "\u001b[32m✔\u001b[39m \u001b[34mtibble \u001b[39m 3.1.8      \u001b[32m✔\u001b[39m \u001b[34mdplyr  \u001b[39m 1.0.10\n",
      "\u001b[32m✔\u001b[39m \u001b[34mtidyr  \u001b[39m 1.2.1      \u001b[32m✔\u001b[39m \u001b[34mstringr\u001b[39m 1.4.1 \n",
      "\u001b[32m✔\u001b[39m \u001b[34mreadr  \u001b[39m 2.1.3      \u001b[32m✔\u001b[39m \u001b[34mforcats\u001b[39m 0.5.2 \n",
      "── \u001b[1mConflicts\u001b[22m ────────────────────────────────────────── tidyverse_conflicts() ──\n",
      "\u001b[31m✖\u001b[39m \u001b[34mdplyr\u001b[39m::\u001b[32mfilter()\u001b[39m masks \u001b[34mstats\u001b[39m::filter()\n",
      "\u001b[31m✖\u001b[39m \u001b[34mdplyr\u001b[39m::\u001b[32mlag()\u001b[39m    masks \u001b[34mstats\u001b[39m::lag()\n",
      "Warning message:\n",
      "\"package 'tidymodels' was built under R version 4.2.2\"\n",
      "── \u001b[1mAttaching packages\u001b[22m ────────────────────────────────────── tidymodels 1.0.0 ──\n",
      "\n",
      "\u001b[32m✔\u001b[39m \u001b[34mbroom       \u001b[39m 1.0.1     \u001b[32m✔\u001b[39m \u001b[34mrsample     \u001b[39m 1.1.0\n",
      "\u001b[32m✔\u001b[39m \u001b[34mdials       \u001b[39m 1.0.0     \u001b[32m✔\u001b[39m \u001b[34mtune        \u001b[39m 1.0.1\n",
      "\u001b[32m✔\u001b[39m \u001b[34minfer       \u001b[39m 1.0.3     \u001b[32m✔\u001b[39m \u001b[34mworkflows   \u001b[39m 1.1.0\n",
      "\u001b[32m✔\u001b[39m \u001b[34mmodeldata   \u001b[39m 1.0.1     \u001b[32m✔\u001b[39m \u001b[34mworkflowsets\u001b[39m 1.0.0\n",
      "\u001b[32m✔\u001b[39m \u001b[34mparsnip     \u001b[39m 1.0.2     \u001b[32m✔\u001b[39m \u001b[34myardstick   \u001b[39m 1.1.0\n",
      "\u001b[32m✔\u001b[39m \u001b[34mrecipes     \u001b[39m 1.0.2     \n",
      "\n",
      "Warning message:\n",
      "\"package 'dials' was built under R version 4.2.2\"\n",
      "Warning message:\n",
      "\"package 'modeldata' was built under R version 4.2.2\"\n",
      "Warning message:\n",
      "\"package 'parsnip' was built under R version 4.2.2\"\n",
      "Warning message:\n",
      "\"package 'recipes' was built under R version 4.2.2\"\n",
      "Warning message:\n",
      "\"package 'rsample' was built under R version 4.2.2\"\n",
      "Warning message:\n",
      "\"package 'tune' was built under R version 4.2.2\"\n",
      "Warning message:\n",
      "\"package 'workflows' was built under R version 4.2.2\"\n",
      "Warning message:\n",
      "\"package 'workflowsets' was built under R version 4.2.2\"\n",
      "Warning message:\n",
      "\"package 'yardstick' was built under R version 4.2.2\"\n",
      "── \u001b[1mConflicts\u001b[22m ───────────────────────────────────────── tidymodels_conflicts() ──\n",
      "\u001b[31m✖\u001b[39m \u001b[34mscales\u001b[39m::\u001b[32mdiscard()\u001b[39m masks \u001b[34mpurrr\u001b[39m::discard()\n",
      "\u001b[31m✖\u001b[39m \u001b[34mdplyr\u001b[39m::\u001b[32mfilter()\u001b[39m   masks \u001b[34mstats\u001b[39m::filter()\n",
      "\u001b[31m✖\u001b[39m \u001b[34mrecipes\u001b[39m::\u001b[32mfixed()\u001b[39m  masks \u001b[34mstringr\u001b[39m::fixed()\n",
      "\u001b[31m✖\u001b[39m \u001b[34mdplyr\u001b[39m::\u001b[32mlag()\u001b[39m      masks \u001b[34mstats\u001b[39m::lag()\n",
      "\u001b[31m✖\u001b[39m \u001b[34myardstick\u001b[39m::\u001b[32mspec()\u001b[39m masks \u001b[34mreadr\u001b[39m::spec()\n",
      "\u001b[31m✖\u001b[39m \u001b[34mrecipes\u001b[39m::\u001b[32mstep()\u001b[39m   masks \u001b[34mstats\u001b[39m::step()\n",
      "\u001b[34m•\u001b[39m Search for functions across packages at \u001b[32mhttps://www.tidymodels.org/find/\u001b[39m\n",
      "\n",
      "Registered S3 method overwritten by 'GGally':\n",
      "  method from   \n",
      "  +.gg   ggplot2\n",
      "\n",
      "Loading required package: car\n",
      "\n",
      "Loading required package: carData\n",
      "\n",
      "\n",
      "Attaching package: 'car'\n",
      "\n",
      "\n",
      "The following object is masked from 'package:dplyr':\n",
      "\n",
      "    recode\n",
      "\n",
      "\n",
      "The following object is masked from 'package:purrr':\n",
      "\n",
      "    some\n",
      "\n",
      "\n",
      "Loading required package: lmtest\n",
      "\n",
      "Loading required package: zoo\n",
      "\n",
      "\n",
      "Attaching package: 'zoo'\n",
      "\n",
      "\n",
      "The following objects are masked from 'package:base':\n",
      "\n",
      "    as.Date, as.Date.numeric\n",
      "\n",
      "\n",
      "Loading required package: sandwich\n",
      "\n",
      "Loading required package: survival\n",
      "\n",
      "Installing package into 'C:/Users/nitahieb/AppData/Local/R/win-library/4.2'\n",
      "(as 'lib' is unspecified)\n",
      "\n"
     ]
    },
    {
     "name": "stdout",
     "output_type": "stream",
     "text": [
      "package 'latex2exp' successfully unpacked and MD5 sums checked\n",
      "\n",
      "The downloaded binary packages are in\n",
      "\tC:\\Users\\nitahieb\\AppData\\Local\\Temp\\RtmpCOlmPM\\downloaded_packages\n"
     ]
    },
    {
     "name": "stderr",
     "output_type": "stream",
     "text": [
      "Warning message:\n",
      "\"package 'latex2exp' was built under R version 4.2.2\"\n",
      "\n",
      "Attaching package: 'gridExtra'\n",
      "\n",
      "\n",
      "The following object is masked from 'package:dplyr':\n",
      "\n",
      "    combine\n",
      "\n",
      "\n",
      "Warning message:\n",
      "\"package 'faraway' was built under R version 4.2.2\"\n",
      "\n",
      "Attaching package: 'faraway'\n",
      "\n",
      "\n",
      "The following objects are masked from 'package:survival':\n",
      "\n",
      "    rats, solder\n",
      "\n",
      "\n",
      "The following objects are masked from 'package:car':\n",
      "\n",
      "    logit, vif\n",
      "\n",
      "\n",
      "The following object is masked from 'package:GGally':\n",
      "\n",
      "    happy\n",
      "\n",
      "\n",
      "\n",
      "Attaching package: 'mltools'\n",
      "\n",
      "\n",
      "The following objects are masked from 'package:yardstick':\n",
      "\n",
      "    mcc, rmse\n",
      "\n",
      "\n",
      "The following object is masked from 'package:tidyr':\n",
      "\n",
      "    replace_na\n",
      "\n",
      "\n",
      "Warning message:\n",
      "\"package 'glmnet' was built under R version 4.2.2\"\n",
      "Loading required package: Matrix\n",
      "\n",
      "\n",
      "Attaching package: 'Matrix'\n",
      "\n",
      "\n",
      "The following objects are masked from 'package:tidyr':\n",
      "\n",
      "    expand, pack, unpack\n",
      "\n",
      "\n",
      "Loaded glmnet 4.1-4\n",
      "\n"
     ]
    }
   ],
   "source": [
    "# First, we will load required packages\n",
    "options(repr.plot.width=8, repr.plot.height=6)\n",
    "library(tidyverse)\n",
    "library(tidymodels)\n",
    "library(repr)\n",
    "library(infer)\n",
    "library(cowplot)\n",
    "library(broom)\n",
    "library(GGally)\n",
    "library(AER)\n",
    "library(broom)\n",
    "install.packages(\"latex2exp\")\n",
    "library(latex2exp)\n",
    "library(digest)\n",
    "library(gridExtra)\n",
    "library(faraway)\n",
    "library(mltools)\n",
    "library(leaps)\n",
    "library(glmnet)\n",
    "\n",
    "\n",
    "# Then, set the seed\n",
    "set.seed(1111)"
   ]
  },
  {
   "cell_type": "markdown",
   "id": "34e82bc8-f68b-474e-adea-f4bd0676039e",
   "metadata": {},
   "source": [
    "#### I. Load data from the web"
   ]
  },
  {
   "cell_type": "code",
   "execution_count": 2,
   "id": "c845ba50-5de0-4f7a-bbc1-183c5b49633b",
   "metadata": {
    "vscode": {
     "languageId": "r"
    }
   },
   "outputs": [
    {
     "name": "stderr",
     "output_type": "stream",
     "text": [
      "Warning message in dir.create(\"data\"):\n",
      "\"'data' already exists\"\n"
     ]
    }
   ],
   "source": [
    "# URL\n",
    "url <- \"https://archive.ics.uci.edu/ml/machine-learning-databases/auto-mpg/auto-mpg.data\"\n",
    "\n",
    "# Download the dataset from the web\n",
    "dir.create(\"data\")\n",
    "destFile <- \"data/localfile.data\"\n",
    "download.file(url, destFile)"
   ]
  },
  {
   "cell_type": "markdown",
   "id": "bc45ab27-b73e-4830-bf70-b096e8258e20",
   "metadata": {},
   "source": [
    "#### II. Clean and wrangle the data into a tidy format"
   ]
  },
  {
   "cell_type": "code",
   "execution_count": 3,
   "id": "3ce42233-068b-4605-b4e0-986ad0c89a59",
   "metadata": {
    "vscode": {
     "languageId": "r"
    }
   },
   "outputs": [
    {
     "data": {
      "text/html": [
       "<table class=\"dataframe\">\n",
       "<caption>A data.frame: 6 × 9</caption>\n",
       "<thead>\n",
       "\t<tr><th></th><th scope=col>V1</th><th scope=col>V2</th><th scope=col>V3</th><th scope=col>V4</th><th scope=col>V5</th><th scope=col>V6</th><th scope=col>V7</th><th scope=col>V8</th><th scope=col>V9</th></tr>\n",
       "\t<tr><th></th><th scope=col>&lt;dbl&gt;</th><th scope=col>&lt;int&gt;</th><th scope=col>&lt;dbl&gt;</th><th scope=col>&lt;chr&gt;</th><th scope=col>&lt;dbl&gt;</th><th scope=col>&lt;dbl&gt;</th><th scope=col>&lt;int&gt;</th><th scope=col>&lt;int&gt;</th><th scope=col>&lt;chr&gt;</th></tr>\n",
       "</thead>\n",
       "<tbody>\n",
       "\t<tr><th scope=row>1</th><td>18</td><td>8</td><td>307</td><td>130.0</td><td>3504</td><td>12.0</td><td>70</td><td>1</td><td>chevrolet chevelle malibu</td></tr>\n",
       "\t<tr><th scope=row>2</th><td>15</td><td>8</td><td>350</td><td>165.0</td><td>3693</td><td>11.5</td><td>70</td><td>1</td><td>buick skylark 320        </td></tr>\n",
       "\t<tr><th scope=row>3</th><td>18</td><td>8</td><td>318</td><td>150.0</td><td>3436</td><td>11.0</td><td>70</td><td>1</td><td>plymouth satellite       </td></tr>\n",
       "\t<tr><th scope=row>4</th><td>16</td><td>8</td><td>304</td><td>150.0</td><td>3433</td><td>12.0</td><td>70</td><td>1</td><td>amc rebel sst            </td></tr>\n",
       "\t<tr><th scope=row>5</th><td>17</td><td>8</td><td>302</td><td>140.0</td><td>3449</td><td>10.5</td><td>70</td><td>1</td><td>ford torino              </td></tr>\n",
       "\t<tr><th scope=row>6</th><td>15</td><td>8</td><td>429</td><td>198.0</td><td>4341</td><td>10.0</td><td>70</td><td>1</td><td>ford galaxie 500         </td></tr>\n",
       "</tbody>\n",
       "</table>\n"
      ],
      "text/latex": [
       "A data.frame: 6 × 9\n",
       "\\begin{tabular}{r|lllllllll}\n",
       "  & V1 & V2 & V3 & V4 & V5 & V6 & V7 & V8 & V9\\\\\n",
       "  & <dbl> & <int> & <dbl> & <chr> & <dbl> & <dbl> & <int> & <int> & <chr>\\\\\n",
       "\\hline\n",
       "\t1 & 18 & 8 & 307 & 130.0 & 3504 & 12.0 & 70 & 1 & chevrolet chevelle malibu\\\\\n",
       "\t2 & 15 & 8 & 350 & 165.0 & 3693 & 11.5 & 70 & 1 & buick skylark 320        \\\\\n",
       "\t3 & 18 & 8 & 318 & 150.0 & 3436 & 11.0 & 70 & 1 & plymouth satellite       \\\\\n",
       "\t4 & 16 & 8 & 304 & 150.0 & 3433 & 12.0 & 70 & 1 & amc rebel sst            \\\\\n",
       "\t5 & 17 & 8 & 302 & 140.0 & 3449 & 10.5 & 70 & 1 & ford torino              \\\\\n",
       "\t6 & 15 & 8 & 429 & 198.0 & 4341 & 10.0 & 70 & 1 & ford galaxie 500         \\\\\n",
       "\\end{tabular}\n"
      ],
      "text/markdown": [
       "\n",
       "A data.frame: 6 × 9\n",
       "\n",
       "| <!--/--> | V1 &lt;dbl&gt; | V2 &lt;int&gt; | V3 &lt;dbl&gt; | V4 &lt;chr&gt; | V5 &lt;dbl&gt; | V6 &lt;dbl&gt; | V7 &lt;int&gt; | V8 &lt;int&gt; | V9 &lt;chr&gt; |\n",
       "|---|---|---|---|---|---|---|---|---|---|\n",
       "| 1 | 18 | 8 | 307 | 130.0 | 3504 | 12.0 | 70 | 1 | chevrolet chevelle malibu |\n",
       "| 2 | 15 | 8 | 350 | 165.0 | 3693 | 11.5 | 70 | 1 | buick skylark 320         |\n",
       "| 3 | 18 | 8 | 318 | 150.0 | 3436 | 11.0 | 70 | 1 | plymouth satellite        |\n",
       "| 4 | 16 | 8 | 304 | 150.0 | 3433 | 12.0 | 70 | 1 | amc rebel sst             |\n",
       "| 5 | 17 | 8 | 302 | 140.0 | 3449 | 10.5 | 70 | 1 | ford torino               |\n",
       "| 6 | 15 | 8 | 429 | 198.0 | 4341 | 10.0 | 70 | 1 | ford galaxie 500          |\n",
       "\n"
      ],
      "text/plain": [
       "  V1 V2 V3  V4    V5   V6   V7 V8 V9                       \n",
       "1 18 8  307 130.0 3504 12.0 70 1  chevrolet chevelle malibu\n",
       "2 15 8  350 165.0 3693 11.5 70 1  buick skylark 320        \n",
       "3 18 8  318 150.0 3436 11.0 70 1  plymouth satellite       \n",
       "4 16 8  304 150.0 3433 12.0 70 1  amc rebel sst            \n",
       "5 17 8  302 140.0 3449 10.5 70 1  ford torino              \n",
       "6 15 8  429 198.0 4341 10.0 70 1  ford galaxie 500         "
      ]
     },
     "metadata": {},
     "output_type": "display_data"
    }
   ],
   "source": [
    "# Convert from .data file to a dataframe\n",
    "raw_mpg_data <- read.delim(\"data/localfile.data\", sep= \"\", header = FALSE)\n",
    "\n",
    "head(raw_mpg_data)"
   ]
  },
  {
   "cell_type": "markdown",
   "id": "a4b741b8-474b-47b7-bf3b-5e6ee8e87b01",
   "metadata": {},
   "source": [
    "**Explanation**: The raw data is auto-mpg-1.data with 9 columns V1-V9 including data type real number, integer and categorical."
   ]
  },
  {
   "cell_type": "code",
   "execution_count": 4,
   "id": "0787ebd2-6d05-452f-af75-268dd2967d7a",
   "metadata": {
    "vscode": {
     "languageId": "r"
    }
   },
   "outputs": [
    {
     "name": "stderr",
     "output_type": "stream",
     "text": [
      "Warning message in eval(expr, envir, enclos):\n",
      "\"NAs introduced by coercion\"\n"
     ]
    },
    {
     "data": {
      "text/html": [
       "<table class=\"dataframe\">\n",
       "<caption>A data.frame: 6 × 6</caption>\n",
       "<thead>\n",
       "\t<tr><th></th><th scope=col>mpg</th><th scope=col>cylinders</th><th scope=col>displacement</th><th scope=col>hoursepower</th><th scope=col>weight</th><th scope=col>acceleration</th></tr>\n",
       "\t<tr><th></th><th scope=col>&lt;dbl&gt;</th><th scope=col>&lt;fct&gt;</th><th scope=col>&lt;dbl&gt;</th><th scope=col>&lt;int&gt;</th><th scope=col>&lt;dbl&gt;</th><th scope=col>&lt;dbl&gt;</th></tr>\n",
       "</thead>\n",
       "<tbody>\n",
       "\t<tr><th scope=row>1</th><td>18</td><td>8</td><td>307</td><td>130</td><td>3504</td><td>12.0</td></tr>\n",
       "\t<tr><th scope=row>2</th><td>15</td><td>8</td><td>350</td><td>165</td><td>3693</td><td>11.5</td></tr>\n",
       "\t<tr><th scope=row>3</th><td>18</td><td>8</td><td>318</td><td>150</td><td>3436</td><td>11.0</td></tr>\n",
       "\t<tr><th scope=row>4</th><td>16</td><td>8</td><td>304</td><td>150</td><td>3433</td><td>12.0</td></tr>\n",
       "\t<tr><th scope=row>5</th><td>17</td><td>8</td><td>302</td><td>140</td><td>3449</td><td>10.5</td></tr>\n",
       "\t<tr><th scope=row>6</th><td>15</td><td>8</td><td>429</td><td>198</td><td>4341</td><td>10.0</td></tr>\n",
       "</tbody>\n",
       "</table>\n"
      ],
      "text/latex": [
       "A data.frame: 6 × 6\n",
       "\\begin{tabular}{r|llllll}\n",
       "  & mpg & cylinders & displacement & hoursepower & weight & acceleration\\\\\n",
       "  & <dbl> & <fct> & <dbl> & <int> & <dbl> & <dbl>\\\\\n",
       "\\hline\n",
       "\t1 & 18 & 8 & 307 & 130 & 3504 & 12.0\\\\\n",
       "\t2 & 15 & 8 & 350 & 165 & 3693 & 11.5\\\\\n",
       "\t3 & 18 & 8 & 318 & 150 & 3436 & 11.0\\\\\n",
       "\t4 & 16 & 8 & 304 & 150 & 3433 & 12.0\\\\\n",
       "\t5 & 17 & 8 & 302 & 140 & 3449 & 10.5\\\\\n",
       "\t6 & 15 & 8 & 429 & 198 & 4341 & 10.0\\\\\n",
       "\\end{tabular}\n"
      ],
      "text/markdown": [
       "\n",
       "A data.frame: 6 × 6\n",
       "\n",
       "| <!--/--> | mpg &lt;dbl&gt; | cylinders &lt;fct&gt; | displacement &lt;dbl&gt; | hoursepower &lt;int&gt; | weight &lt;dbl&gt; | acceleration &lt;dbl&gt; |\n",
       "|---|---|---|---|---|---|---|\n",
       "| 1 | 18 | 8 | 307 | 130 | 3504 | 12.0 |\n",
       "| 2 | 15 | 8 | 350 | 165 | 3693 | 11.5 |\n",
       "| 3 | 18 | 8 | 318 | 150 | 3436 | 11.0 |\n",
       "| 4 | 16 | 8 | 304 | 150 | 3433 | 12.0 |\n",
       "| 5 | 17 | 8 | 302 | 140 | 3449 | 10.5 |\n",
       "| 6 | 15 | 8 | 429 | 198 | 4341 | 10.0 |\n",
       "\n"
      ],
      "text/plain": [
       "  mpg cylinders displacement hoursepower weight acceleration\n",
       "1 18  8         307          130         3504   12.0        \n",
       "2 15  8         350          165         3693   11.5        \n",
       "3 18  8         318          150         3436   11.0        \n",
       "4 16  8         304          150         3433   12.0        \n",
       "5 17  8         302          140         3449   10.5        \n",
       "6 15  8         429          198         4341   10.0        "
      ]
     },
     "metadata": {},
     "output_type": "display_data"
    },
    {
     "data": {
      "text/html": [
       "<style>\n",
       ".list-inline {list-style: none; margin:0; padding: 0}\n",
       ".list-inline>li {display: inline-block}\n",
       ".list-inline>li:not(:last-child)::after {content: \"\\00b7\"; padding: 0 .5ex}\n",
       "</style>\n",
       "<ol class=list-inline><li>'3'</li><li>'4'</li><li>'5'</li><li>'6'</li><li>'8'</li></ol>\n"
      ],
      "text/latex": [
       "\\begin{enumerate*}\n",
       "\\item '3'\n",
       "\\item '4'\n",
       "\\item '5'\n",
       "\\item '6'\n",
       "\\item '8'\n",
       "\\end{enumerate*}\n"
      ],
      "text/markdown": [
       "1. '3'\n",
       "2. '4'\n",
       "3. '5'\n",
       "4. '6'\n",
       "5. '8'\n",
       "\n",
       "\n"
      ],
      "text/plain": [
       "[1] \"3\" \"4\" \"5\" \"6\" \"8\""
      ]
     },
     "metadata": {},
     "output_type": "display_data"
    }
   ],
   "source": [
    "\n",
    "mpg_data_tidy <- raw_mpg_data %>%\n",
    "        mutate(mpg = V1, cylinders = V2, displacement =V3, hoursepower = V4, \n",
    "                    weight = V5, acceleration = V6, model_year = V7, origin = V8) %>%\n",
    "        select(mpg,cylinders,displacement,hoursepower,weight,acceleration,model_year,origin)\n",
    "\n",
    "mpg_data_tidy$cylinders <- as.factor(mpg_data_tidy$cylinders)\n",
    "\n",
    "mpg_data_tidy$hoursepower <- as.integer(mpg_data_tidy$hoursepower)\n",
    "\n",
    "mpg_data <- mpg_data_tidy %>% \n",
    "        select(mpg,cylinders,displacement,hoursepower,weight,acceleration) %>%\n",
    "        filter(!is.na(mpg_data_tidy$hoursepower)) \n",
    "\n",
    "\n",
    "head(mpg_data)\n",
    "levels(mpg_data$cylinders)"
   ]
  },
  {
   "cell_type": "code",
   "execution_count": 5,
   "id": "b4139e8d-ec3c-4875-a681-73eadf377bbf",
   "metadata": {
    "vscode": {
     "languageId": "r"
    }
   },
   "outputs": [
    {
     "data": {
      "image/png": "[encoded data removed]",
      "text/plain": [
       "plot without title"
      ]
     },
     "metadata": {
      "image/png": {
       "height": 360,
       "width": 480
      }
     },
     "output_type": "display_data"
    }
   ],
   "source": [
    "p<-ggplot(data=mpg_data, aes(x=cylinders, y=mpg)) +\n",
    "  geom_bar(stat=\"identity\")\n",
    "p"
   ]
  },
  {
   "cell_type": "code",
   "execution_count": 6,
   "id": "14383d5a-b7b2-493c-9c5b-856d5997d371",
   "metadata": {
    "vscode": {
     "languageId": "r"
    }
   },
   "outputs": [
    {
     "data": {
      "text/html": [
       "<table class=\"dataframe\">\n",
       "<caption>A data.frame: 6 × 6</caption>\n",
       "<thead>\n",
       "\t<tr><th></th><th scope=col>mpg</th><th scope=col>cylinders</th><th scope=col>displacement</th><th scope=col>hoursepower</th><th scope=col>weight</th><th scope=col>acceleration</th></tr>\n",
       "\t<tr><th></th><th scope=col>&lt;dbl&gt;</th><th scope=col>&lt;chr&gt;</th><th scope=col>&lt;dbl&gt;</th><th scope=col>&lt;int&gt;</th><th scope=col>&lt;dbl&gt;</th><th scope=col>&lt;dbl&gt;</th></tr>\n",
       "</thead>\n",
       "<tbody>\n",
       "\t<tr><th scope=row>1</th><td>18</td><td>high</td><td>307</td><td>130</td><td>3504</td><td>12.0</td></tr>\n",
       "\t<tr><th scope=row>2</th><td>15</td><td>high</td><td>350</td><td>165</td><td>3693</td><td>11.5</td></tr>\n",
       "\t<tr><th scope=row>3</th><td>18</td><td>high</td><td>318</td><td>150</td><td>3436</td><td>11.0</td></tr>\n",
       "\t<tr><th scope=row>4</th><td>16</td><td>high</td><td>304</td><td>150</td><td>3433</td><td>12.0</td></tr>\n",
       "\t<tr><th scope=row>5</th><td>17</td><td>high</td><td>302</td><td>140</td><td>3449</td><td>10.5</td></tr>\n",
       "\t<tr><th scope=row>6</th><td>15</td><td>high</td><td>429</td><td>198</td><td>4341</td><td>10.0</td></tr>\n",
       "</tbody>\n",
       "</table>\n"
      ],
      "text/latex": [
       "A data.frame: 6 × 6\n",
       "\\begin{tabular}{r|llllll}\n",
       "  & mpg & cylinders & displacement & hoursepower & weight & acceleration\\\\\n",
       "  & <dbl> & <chr> & <dbl> & <int> & <dbl> & <dbl>\\\\\n",
       "\\hline\n",
       "\t1 & 18 & high & 307 & 130 & 3504 & 12.0\\\\\n",
       "\t2 & 15 & high & 350 & 165 & 3693 & 11.5\\\\\n",
       "\t3 & 18 & high & 318 & 150 & 3436 & 11.0\\\\\n",
       "\t4 & 16 & high & 304 & 150 & 3433 & 12.0\\\\\n",
       "\t5 & 17 & high & 302 & 140 & 3449 & 10.5\\\\\n",
       "\t6 & 15 & high & 429 & 198 & 4341 & 10.0\\\\\n",
       "\\end{tabular}\n"
      ],
      "text/markdown": [
       "\n",
       "A data.frame: 6 × 6\n",
       "\n",
       "| <!--/--> | mpg &lt;dbl&gt; | cylinders &lt;chr&gt; | displacement &lt;dbl&gt; | hoursepower &lt;int&gt; | weight &lt;dbl&gt; | acceleration &lt;dbl&gt; |\n",
       "|---|---|---|---|---|---|---|\n",
       "| 1 | 18 | high | 307 | 130 | 3504 | 12.0 |\n",
       "| 2 | 15 | high | 350 | 165 | 3693 | 11.5 |\n",
       "| 3 | 18 | high | 318 | 150 | 3436 | 11.0 |\n",
       "| 4 | 16 | high | 304 | 150 | 3433 | 12.0 |\n",
       "| 5 | 17 | high | 302 | 140 | 3449 | 10.5 |\n",
       "| 6 | 15 | high | 429 | 198 | 4341 | 10.0 |\n",
       "\n"
      ],
      "text/plain": [
       "  mpg cylinders displacement hoursepower weight acceleration\n",
       "1 18  high      307          130         3504   12.0        \n",
       "2 15  high      350          165         3693   11.5        \n",
       "3 18  high      318          150         3436   11.0        \n",
       "4 16  high      304          150         3433   12.0        \n",
       "5 17  high      302          140         3449   10.5        \n",
       "6 15  high      429          198         4341   10.0        "
      ]
     },
     "metadata": {},
     "output_type": "display_data"
    }
   ],
   "source": [
    "mpg_data <- mpg_data %>%\n",
    "  mutate(cylinders= ifelse(cylinders == '3',\"low\",\n",
    "                             ifelse(cylinders == '4', \"low\",\n",
    "                                    ifelse(cylinders == '5', \"high\",\n",
    "                                           ifelse(cylinders == '6', \"high\", \n",
    "                                                  ifelse(cylinders == '8', \"high\",NA)))))) \n",
    "\n",
    "\n",
    "head(mpg_data)\n"
   ]
  },
  {
   "cell_type": "markdown",
   "id": "786ed8cf-ce4e-4f47-8116-1f05ec2efa5d",
   "metadata": {},
   "source": [
    "**Explanation**: we rename all the columns to proper names and turn the type of cylinders into factor since it is a categorical \n",
    "variable with only 5 types. And we delete rows with a missing data. Also turn the type of horsepower into integer, and then we \n",
    "get rid of column V7,V8,V9 which represents car name, model_year,and origin. car name includes over 100 different strings, and\n",
    "it makes no sense to turn it into a categorical variable,so we decide to take away this column, for model_year, it is a discrete \n",
    "variable which is also over 10 different levels,so we decide to get rid of it. For origin the data does not provide information \n",
    "with what 1,2,3 represent so, we won't use this column."
   ]
  },
  {
   "cell_type": "markdown",
   "id": "82b8cf35-a0a4-46a7-8f86-6f481820327d",
   "metadata": {},
   "source": [
    "#### III. Plots"
   ]
  },
  {
   "cell_type": "code",
   "execution_count": 7,
   "id": "91b6522d-b0de-4c55-a720-95678251c0db",
   "metadata": {
    "vscode": {
     "languageId": "r"
    }
   },
   "outputs": [
    {
     "data": {
      "image/png": "[encoded data removed]",
      "text/plain": [
       "plot without title"
      ]
     },
     "metadata": {
      "image/png": {
       "height": 720,
       "width": 900
      }
     },
     "output_type": "display_data"
    }
   ],
   "source": [
    "options(repr.plot.width = 15, repr.plot.height = 12)\n",
    "\n",
    "correlation_plots <- mpg_data %>%\n",
    "  select(- cylinders) %>%\n",
    "  ggpairs(progress = FALSE) +\n",
    "  theme(\n",
    "    text = element_text(size = 15),\n",
    "    plot.title = element_text(face = \"bold\"),\n",
    "    axis.title = element_text(face = \"bold\")\n",
    "  )\n",
    "  \n",
    "correlation_plots"
   ]
  },
  {
   "cell_type": "markdown",
   "id": "56011ea7-5beb-4e29-8264-e96a9d3cdf04",
   "metadata": {
    "vscode": {
     "languageId": "r"
    }
   },
   "source": [
    "**Explanation**: The correlation plots show the scatterplot of each pair of variables, so that the shape and correlation between variables are clear to see.  Weight and displacement seems to have a very high positive correlation which is 0.933, weight and mpg has a very high negative correlation which is -0.832. The "
   ]
  },
  {
   "cell_type": "code",
   "execution_count": 8,
   "id": "53e7f103-de16-4ff4-becf-1e4744fd4eb2",
   "metadata": {
    "vscode": {
     "languageId": "r"
    }
   },
   "outputs": [
    {
     "data": {
      "image/png": "[encoded data removed]",
      "text/plain": [
       "Plot with title \"Histogram of mpg\""
      ]
     },
     "metadata": {
      "image/png": {
       "height": 360,
       "width": 480
      }
     },
     "output_type": "display_data"
    }
   ],
   "source": [
    "options(repr.plot.width = 8, repr.plot.height = 6)\n",
    "hist(mpg_data$mpg,\n",
    "    main=\"Histogram of mpg\",\n",
    "    xlab=\"mpg\")"
   ]
  },
  {
   "cell_type": "markdown",
   "id": "ad4e3620-e5b9-4c7b-a29f-26a6e4a28b74",
   "metadata": {},
   "source": [
    "**Explanation**: This histogram shows the distribution of our response varibale \"mpg\", which is \"roughly\" a normal distibution"
   ]
  },
  {
   "cell_type": "code",
   "execution_count": 9,
   "id": "9ec0c80f-e443-4544-843f-ebfeaeb308fd",
   "metadata": {
    "vscode": {
     "languageId": "r"
    }
   },
   "outputs": [
    {
     "data": {
      "text/plain": [
       "   Min. 1st Qu.  Median    Mean 3rd Qu.    Max. \n",
       "   9.00   17.00   22.75   23.45   29.00   46.60 "
      ]
     },
     "metadata": {},
     "output_type": "display_data"
    }
   ],
   "source": [
    "summary(mpg_data$mpg)"
   ]
  },
  {
   "cell_type": "markdown",
   "id": "864b46bf-347f-42d3-8782-aa8f1e3e332f",
   "metadata": {},
   "source": [
    "### Forward selection"
   ]
  },
  {
   "cell_type": "code",
   "execution_count": 10,
   "id": "d756d79a-c6d9-439d-9af9-542a0e7914dd",
   "metadata": {
    "vscode": {
     "languageId": "r"
    }
   },
   "outputs": [
    {
     "data": {
      "text/plain": [
       "Subset selection object\n",
       "Call: regsubsets.formula(x = mpg ~ ., nvmax = 5, data = mpg_data, method = \"forward\", \n",
       "    )\n",
       "5 Variables  (and intercept)\n",
       "             Forced in Forced out\n",
       "cylinderslow     FALSE      FALSE\n",
       "displacement     FALSE      FALSE\n",
       "hoursepower      FALSE      FALSE\n",
       "weight           FALSE      FALSE\n",
       "acceleration     FALSE      FALSE\n",
       "1 subsets of each size up to 5\n",
       "Selection Algorithm: forward\n",
       "         cylinderslow displacement hoursepower weight acceleration\n",
       "1  ( 1 ) \" \"          \" \"          \" \"         \"*\"    \" \"         \n",
       "2  ( 1 ) \"*\"          \" \"          \" \"         \"*\"    \" \"         \n",
       "3  ( 1 ) \"*\"          \" \"          \"*\"         \"*\"    \" \"         \n",
       "4  ( 1 ) \"*\"          \"*\"          \"*\"         \"*\"    \" \"         \n",
       "5  ( 1 ) \"*\"          \"*\"          \"*\"         \"*\"    \"*\"         "
      ]
     },
     "metadata": {},
     "output_type": "display_data"
    }
   ],
   "source": [
    "mpg_forward_sel <- regsubsets(\n",
    "  x = mpg ~ ., nvmax = 5,\n",
    "  data = mpg_data,\n",
    "  method = \"forward\",\n",
    ")\n",
    "    \n",
    "mpg_forward_summary <- summary(mpg_forward_sel)\n",
    "mpg_forward_summary"
   ]
  },
  {
   "cell_type": "code",
   "execution_count": 11,
   "id": "eb0d62c4-4674-4a37-bb88-392b038540ac",
   "metadata": {
    "vscode": {
     "languageId": "r"
    }
   },
   "outputs": [
    {
     "data": {
      "text/html": [
       "<table class=\"dataframe\">\n",
       "<caption>A tibble: 5 × 6</caption>\n",
       "<thead>\n",
       "\t<tr><th scope=col>n_input_variables</th><th scope=col>RSQ</th><th scope=col>RSS</th><th scope=col>ADJ.R2</th><th scope=col>Cp</th><th scope=col>BIC</th></tr>\n",
       "\t<tr><th scope=col>&lt;int&gt;</th><th scope=col>&lt;dbl&gt;</th><th scope=col>&lt;dbl&gt;</th><th scope=col>&lt;dbl&gt;</th><th scope=col>&lt;dbl&gt;</th><th scope=col>&lt;dbl&gt;</th></tr>\n",
       "</thead>\n",
       "<tbody>\n",
       "\t<tr><td>1</td><td>0.6926304</td><td>7321.234</td><td>0.6918423</td><td>44.293945</td><td>-450.5016</td></tr>\n",
       "\t<tr><td>2</td><td>0.7081556</td><td>6951.440</td><td>0.7066551</td><td>24.458908</td><td>-464.8477</td></tr>\n",
       "\t<tr><td>3</td><td>0.7233301</td><td>6589.998</td><td>0.7211909</td><td> 5.116946</td><td>-479.8076</td></tr>\n",
       "\t<tr><td>4</td><td>0.7254629</td><td>6539.199</td><td>0.7226253</td><td> 4.117426</td><td>-476.8698</td></tr>\n",
       "\t<tr><td>5</td><td>0.7255463</td><td>6537.210</td><td>0.7219912</td><td> 6.000000</td><td>-471.0178</td></tr>\n",
       "</tbody>\n",
       "</table>\n"
      ],
      "text/latex": [
       "A tibble: 5 × 6\n",
       "\\begin{tabular}{llllll}\n",
       " n\\_input\\_variables & RSQ & RSS & ADJ.R2 & Cp & BIC\\\\\n",
       " <int> & <dbl> & <dbl> & <dbl> & <dbl> & <dbl>\\\\\n",
       "\\hline\n",
       "\t 1 & 0.6926304 & 7321.234 & 0.6918423 & 44.293945 & -450.5016\\\\\n",
       "\t 2 & 0.7081556 & 6951.440 & 0.7066551 & 24.458908 & -464.8477\\\\\n",
       "\t 3 & 0.7233301 & 6589.998 & 0.7211909 &  5.116946 & -479.8076\\\\\n",
       "\t 4 & 0.7254629 & 6539.199 & 0.7226253 &  4.117426 & -476.8698\\\\\n",
       "\t 5 & 0.7255463 & 6537.210 & 0.7219912 &  6.000000 & -471.0178\\\\\n",
       "\\end{tabular}\n"
      ],
      "text/markdown": [
       "\n",
       "A tibble: 5 × 6\n",
       "\n",
       "| n_input_variables &lt;int&gt; | RSQ &lt;dbl&gt; | RSS &lt;dbl&gt; | ADJ.R2 &lt;dbl&gt; | Cp &lt;dbl&gt; | BIC &lt;dbl&gt; |\n",
       "|---|---|---|---|---|---|\n",
       "| 1 | 0.6926304 | 7321.234 | 0.6918423 | 44.293945 | -450.5016 |\n",
       "| 2 | 0.7081556 | 6951.440 | 0.7066551 | 24.458908 | -464.8477 |\n",
       "| 3 | 0.7233301 | 6589.998 | 0.7211909 |  5.116946 | -479.8076 |\n",
       "| 4 | 0.7254629 | 6539.199 | 0.7226253 |  4.117426 | -476.8698 |\n",
       "| 5 | 0.7255463 | 6537.210 | 0.7219912 |  6.000000 | -471.0178 |\n",
       "\n"
      ],
      "text/plain": [
       "  n_input_variables RSQ       RSS      ADJ.R2    Cp        BIC      \n",
       "1 1                 0.6926304 7321.234 0.6918423 44.293945 -450.5016\n",
       "2 2                 0.7081556 6951.440 0.7066551 24.458908 -464.8477\n",
       "3 3                 0.7233301 6589.998 0.7211909  5.116946 -479.8076\n",
       "4 4                 0.7254629 6539.199 0.7226253  4.117426 -476.8698\n",
       "5 5                 0.7255463 6537.210 0.7219912  6.000000 -471.0178"
      ]
     },
     "metadata": {},
     "output_type": "display_data"
    }
   ],
   "source": [
    "mpg_forward_summary_df <- tibble(\n",
    "    n_input_variables = 1:5,\n",
    "    RSQ = mpg_forward_summary$rsq,\n",
    "    RSS = mpg_forward_summary$rss,\n",
    "    ADJ.R2 = mpg_forward_summary$adjr2,\n",
    "    Cp = mpg_forward_summary$cp,\n",
    "    BIC = mpg_forward_summary$bic,\n",
    ")\n",
    "mpg_forward_summary_df"
   ]
  },
  {
   "cell_type": "code",
   "execution_count": 12,
   "id": "7408c5d0-cbf9-41f3-a6e6-693cdc79463e",
   "metadata": {
    "vscode": {
     "languageId": "r"
    }
   },
   "outputs": [
    {
     "data": {
      "image/png": "[encoded data removed]",
      "text/plain": [
       "Plot with title \"Cp for forward selection\""
      ]
     },
     "metadata": {
      "image/png": {
       "height": 360,
       "width": 480
      }
     },
     "output_type": "display_data"
    }
   ],
   "source": [
    "plot(summary(mpg_forward_sel)$cp,\n",
    "  main = \"Cp for forward selection\",\n",
    "  xlab = \"Number of Input Variables\", ylab = \"Rsq\", type = \"b\", pch = 5,\n",
    "  col = \"red\"\n",
    ")"
   ]
  },
  {
   "cell_type": "markdown",
   "id": "073edcc1-5cd0-44f6-b6b7-79b2d061134f",
   "metadata": {},
   "source": [
    "### lasso regression"
   ]
  },
  {
   "cell_type": "code",
   "execution_count": 17,
   "id": "5eae9c44-0820-40fd-be87-5e987ec32c4c",
   "metadata": {
    "vscode": {
     "languageId": "r"
    }
   },
   "outputs": [],
   "source": [
    "set.seed(1234)\n",
    "\n",
    "mpg_data$ID <- 1:nrow(mpg_data)\n",
    "training_mpg <- sample_n(mpg_data, size = nrow(mpg_data) * 0.60,\n",
    "  replace = FALSE\n",
    ")\n",
    "\n",
    "testing_mpg <- anti_join(mpg_data,\n",
    "  training_mpg,\n",
    "  by = \"ID\"\n",
    ")\n",
    "\n",
    "\n",
    "\n",
    "training_mpg <- training_mpg %>% select(-\"ID\")\n",
    "testing_mpg <- testing_mpg %>% select(-\"ID\")\n",
    "\n",
    "mpg_X_train <- training_mpg %>% select(-\"mpg\")  %>% data.matrix()\n",
    "mpg_Y_train <- training_mpg %>% select(\"mpg\")  %>% data.matrix()\n",
    "\n",
    "\n",
    "mpg_X_test <- testing_mpg %>% select(-\"mpg\")  %>% data.matrix()\n",
    "mpg_Y_test <- testing_mpg %>% select(\"mpg\")  %>% data.matrix()\n"
   ]
  },
  {
   "cell_type": "code",
   "execution_count": 18,
   "id": "e0a96b1f-8940-47a8-8e15-7d37244aa8cd",
   "metadata": {
    "vscode": {
     "languageId": "r"
    }
   },
   "outputs": [],
   "source": [
    "mpg_cv_lambda_LASSO <- cv.glmnet(\n",
    "  x = mpg_X_train, y = mpg_Y_train,\n",
    "  alpha = 1,\n",
    "  lambda = exp(seq(1, 12, 0.1))\n",
    ")"
   ]
  },
  {
   "cell_type": "markdown",
   "id": "b00ca006",
   "metadata": {},
   "source": [
    "## Method"
   ]
  },
  {
   "cell_type": "markdown",
   "id": "6f757fa2",
   "metadata": {},
   "source": [
    "The report is trustworthy because it is based on data from a reliable source. The data used it the Auto MPG Data Set which is maintained by a reliable source, Carnegie Mellon University. It will also give insight into fuel efficient cars which are important because of the large amount of emissions cars create.\n",
    "\n",
    "This report, as mentioned above, will present all possible linear regression models(in the scope of this class) for predicting MPG and answer which model is the best.\n",
    "\n",
    "Currently we only have simple statistics on the correlation between the variables. This doesn't give much insight into this question, except that there is a lot of positive and negative correlation between the variables.\n",
    "\n",
    "Since we have all these correlated variables, we will check the VIF of the input variables and remove variables to get a VIF under 10(we will decide which ones are most appropriate to remove based on existing knowledge on MPG). We choose under 10 because when it is over 10 it is evidence of severe multicollinearity.\n",
    "\n",
    "From here we will create every combination of model with and without interaction. We will compare these models by running them through 5-fold cross validation and picking the one that achieves the best Mean Squared Error. We are doing cross validation to approximate test Mean Squared Error"
   ]
  },
  {
   "cell_type": "markdown",
   "id": "5285a673",
   "metadata": {},
   "source": [
    "We expect to create a model which will be able to accurately predict the MPG of a vehicle given the input variables the model uses.\n",
    "\n",
    "We believe this model could be impactful because it could help consumers choose fuel efficient vehicles. When choosing a vehicle you can put the necessary data into the model and it will give you an estimated MPG. "
   ]
  },
  {
   "cell_type": "markdown",
   "id": "d78011b0-d184-402c-9403-e605392f2245",
   "metadata": {},
   "source": [
    "## References"
   ]
  },
  {
   "cell_type": "markdown",
   "id": "36f0dd5b-7575-4650-bbfa-1a358cf1da6f",
   "metadata": {},
   "source": [
    "Neelesh A. Patankar, Jane Lin & Tanvee N. Patankar(October, 2021), <em>Mileage efficiency of cars</em>, vol. 4, ScienceDirect. Retrieved November 3, 2022 from https://www.sciencedirect.com/science/article/pii/S2666790821002007#"
   ]
  },
  {
   "cell_type": "markdown",
   "id": "afb54cd4-8fb3-4dcd-8aac-fc6a078a6485",
   "metadata": {},
   "source": [
    "Zoe Long, Christine Kormos, Reuven Sussman & Jonn Axsena (April, 2021), <em>MPG, fuel costs, or savings? \n",
    "Exploring the role of information framing in consumer valuation of fuel economy using a choice experiment</em>, vol 146, ScienceDirect. Retrieved November 3, 2022 from https://www.sciencedirect.com/science/article/pii/S096585642100032X#"
   ]
  },
  {
   "cell_type": "code",
   "execution_count": null,
   "id": "54b4c30a-4af4-4ecf-87fe-5e9f34b44f0b",
   "metadata": {
    "vscode": {
     "languageId": "r"
    }
   },
   "outputs": [],
   "source": []
  }
 ],
 "metadata": {
  "kernelspec": {
   "display_name": "R",
   "language": "R",
   "name": "ir"
  },
  "language_info": {
   "codemirror_mode": "r",
   "file_extension": ".r",
   "mimetype": "text/x-r-source",
   "name": "R",
   "pygments_lexer": "r",
   "version": "4.2.1"
  }
 },
 "nbformat": 4,
 "nbformat_minor": 5
}
