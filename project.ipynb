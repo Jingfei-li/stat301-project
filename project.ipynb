{
 "cells": [
  {
   "cell_type": "markdown",
   "id": "51d70e7d",
   "metadata": {},
   "source": [
    "# **Model Selection for Prediction of MPG of Cars and Possible Explanatory Variables**"
   ]
  },
  {
   "cell_type": "markdown",
   "id": "93aa6ace-f043-4636-bd95-cc5578cf8f0f",
   "metadata": {},
   "source": [
    "#### Authors: Felix Li, Naaimur Reza, Nitahi Escolar Bach & Yingshan Wu"
   ]
  },
  {
   "cell_type": "markdown",
   "id": "57f7cdb0-6c35-45b8-b50d-52a4daeef9b4",
   "metadata": {},
   "source": [
    "## Introduction"
   ]
  },
  {
   "cell_type": "markdown",
   "id": "29c080af-91b4-4c21-8e03-fb6921bd780d",
   "metadata": {},
   "source": [
    "Canada's climate poses special challenges for fuel-efficient driving. Besides factors such as weather, road conditions\n",
    "and traffic conditions other more universal factors such as a car's weight, horsepower, and number of cylinders in has\n",
    "can also affect fuel efficiency. Furthermore, Canada's GHG emmision standards are becoming more strict and with fuel\n",
    "prices on the rise it's important to learn how and which factors affect the mileage of one's vehicle and be able to\n",
    "predict the MPG(**Miles Per Gallon**) given external factors. **Our project aims to present all possible linear regression models(in the scope of this class) for predicting MPG and answer which\n",
    "model is the best.**\n",
    "\n",
    "For our predictive analysis we have decided to use \"Auto MPG Data Set\" taken from the StatLib library which is maintained at Carnegie Mellon University. The dataset was used in the 1983 American Statistical Association Exposition. Attributes include city-cycle fuel consumption in miles per gallon, number of cylinders, displacement, horsepower, weight, acceleration, car model year, origin and car name.\n",
    "\n",
    "Two academic studies that we deemed relevant for this study are: Neelesh A. Patankar, Jane Lin & Tanvee N. Patankar(2021) claimed fuel economy (measured in mpgge) is an absolute measure and tells little about the real mileage efficiency of a car, because efficiency is a relative measure depending on both the input and output and, does not take into account external factors such as road infrastructure and driving conditions. Zoe L., Christine K., Reuven S. & Jonn A. (2021) found that presentation of fuel economy information may increase selection of efficient vehicles."
   ]
  },
  {
   "cell_type": "markdown",
   "id": "254c1874-514e-4ba5-8749-7a5615395513",
   "metadata": {},
   "source": [
    "## Method and Result"
   ]
  },
  {
   "attachments": {},
   "cell_type": "markdown",
   "id": "320fc1e6",
   "metadata": {},
   "source": [
    "The report is trustworthy because it is based on data from a reliable source. The data used it the Auto MPG Data Set which is maintained by a reliable source, Carnegie Mellon University. It will also give insight into fuel efficient cars which are important because of the large amount of emissions cars create.\n",
    "\n",
    "This report, as mentioned above, will present all possible linear regression models(in the scope of this class) for predicting MPG and answer which model is the best.\n",
    "\n",
    "Since we have all these correlated variables, we will check the VIF of the input variables and remove variables to get a VIF under 10(we will decide which ones are most appropriate to remove based on existing knowledge on MPG). We choose under 10 because when it is over 10 it is evidence of severe multicollinearity.\n",
    "\n",
    "From here we will create every combination of model with and without interaction. We will compare these models by running them through 5-fold cross validation and picking the one that achieves the best Mean Squared Error. We are doing cross validation to approximate test Mean Squared Error.\n",
    "\n",
    "First we load the necessary packages for this data analysis."
   ]
  },
  {
   "cell_type": "code",
   "execution_count": 33,
   "id": "a8302b05-98e4-4149-9f8a-5e15554a71ef",
   "metadata": {
    "vscode": {
     "languageId": "r"
    }
   },
   "outputs": [],
   "source": [
    "# First, we will load required packages\n",
    "options(repr.plot.width=8, repr.plot.height=6)\n",
    "library(tidyverse)\n",
    "library(tidymodels)\n",
    "library(repr)\n",
    "library(infer)\n",
    "library(cowplot)\n",
    "library(broom)\n",
    "library(GGally)\n",
    "library(AER)\n",
    "library(broom)\n",
    "library(latex2exp)\n",
    "library(digest)\n",
    "library(gridExtra)\n",
    "library(faraway)\n",
    "library(mltools)\n",
    "library(leaps)\n",
    "library(glmnet)\n",
    "\n",
    "\n",
    "# Then, set the seed\n",
    "set.seed(1111)"
   ]
  },
  {
   "cell_type": "markdown",
   "id": "34e82bc8-f68b-474e-adea-f4bd0676039e",
   "metadata": {},
   "source": [
    "#### I. Load data from the web"
   ]
  },
  {
   "cell_type": "code",
   "execution_count": 34,
   "id": "c845ba50-5de0-4f7a-bbc1-183c5b49633b",
   "metadata": {
    "vscode": {
     "languageId": "r"
    }
   },
   "outputs": [],
   "source": [
    "# URL\n",
    "url <- \"https://archive.ics.uci.edu/ml/machine-learning-databases/auto-mpg/auto-mpg.data\"\n",
    "\n",
    "# Download the dataset from the web\n",
    "dir.create(\"data\")\n",
    "destFile <- \"data/localfile.data\"\n",
    "download.file(url, destFile)"
   ]
  },
  {
   "cell_type": "markdown",
   "id": "bc45ab27-b73e-4830-bf70-b096e8258e20",
   "metadata": {},
   "source": [
    "#### II. Clean and wrangle the data into a tidy format"
   ]
  },
  {
   "cell_type": "code",
   "execution_count": 35,
   "id": "3ce42233-068b-4605-b4e0-986ad0c89a59",
   "metadata": {
    "vscode": {
     "languageId": "r"
    }
   },
   "outputs": [
    {
     "data": {
      "text/html": [
       "<table class=\"dataframe\">\n",
       "<caption>A data.frame: 6 × 9</caption>\n",
       "<thead>\n",
       "\t<tr><th></th><th scope=col>V1</th><th scope=col>V2</th><th scope=col>V3</th><th scope=col>V4</th><th scope=col>V5</th><th scope=col>V6</th><th scope=col>V7</th><th scope=col>V8</th><th scope=col>V9</th></tr>\n",
       "\t<tr><th></th><th scope=col>&lt;dbl&gt;</th><th scope=col>&lt;int&gt;</th><th scope=col>&lt;dbl&gt;</th><th scope=col>&lt;chr&gt;</th><th scope=col>&lt;dbl&gt;</th><th scope=col>&lt;dbl&gt;</th><th scope=col>&lt;int&gt;</th><th scope=col>&lt;int&gt;</th><th scope=col>&lt;chr&gt;</th></tr>\n",
       "</thead>\n",
       "<tbody>\n",
       "\t<tr><th scope=row>1</th><td>18</td><td>8</td><td>307</td><td>130.0</td><td>3504</td><td>12.0</td><td>70</td><td>1</td><td>chevrolet chevelle malibu</td></tr>\n",
       "\t<tr><th scope=row>2</th><td>15</td><td>8</td><td>350</td><td>165.0</td><td>3693</td><td>11.5</td><td>70</td><td>1</td><td>buick skylark 320        </td></tr>\n",
       "\t<tr><th scope=row>3</th><td>18</td><td>8</td><td>318</td><td>150.0</td><td>3436</td><td>11.0</td><td>70</td><td>1</td><td>plymouth satellite       </td></tr>\n",
       "\t<tr><th scope=row>4</th><td>16</td><td>8</td><td>304</td><td>150.0</td><td>3433</td><td>12.0</td><td>70</td><td>1</td><td>amc rebel sst            </td></tr>\n",
       "\t<tr><th scope=row>5</th><td>17</td><td>8</td><td>302</td><td>140.0</td><td>3449</td><td>10.5</td><td>70</td><td>1</td><td>ford torino              </td></tr>\n",
       "\t<tr><th scope=row>6</th><td>15</td><td>8</td><td>429</td><td>198.0</td><td>4341</td><td>10.0</td><td>70</td><td>1</td><td>ford galaxie 500         </td></tr>\n",
       "</tbody>\n",
       "</table>\n"
      ],
      "text/latex": [
       "A data.frame: 6 × 9\n",
       "\\begin{tabular}{r|lllllllll}\n",
       "  & V1 & V2 & V3 & V4 & V5 & V6 & V7 & V8 & V9\\\\\n",
       "  & <dbl> & <int> & <dbl> & <chr> & <dbl> & <dbl> & <int> & <int> & <chr>\\\\\n",
       "\\hline\n",
       "\t1 & 18 & 8 & 307 & 130.0 & 3504 & 12.0 & 70 & 1 & chevrolet chevelle malibu\\\\\n",
       "\t2 & 15 & 8 & 350 & 165.0 & 3693 & 11.5 & 70 & 1 & buick skylark 320        \\\\\n",
       "\t3 & 18 & 8 & 318 & 150.0 & 3436 & 11.0 & 70 & 1 & plymouth satellite       \\\\\n",
       "\t4 & 16 & 8 & 304 & 150.0 & 3433 & 12.0 & 70 & 1 & amc rebel sst            \\\\\n",
       "\t5 & 17 & 8 & 302 & 140.0 & 3449 & 10.5 & 70 & 1 & ford torino              \\\\\n",
       "\t6 & 15 & 8 & 429 & 198.0 & 4341 & 10.0 & 70 & 1 & ford galaxie 500         \\\\\n",
       "\\end{tabular}\n"
      ],
      "text/markdown": [
       "\n",
       "A data.frame: 6 × 9\n",
       "\n",
       "| <!--/--> | V1 &lt;dbl&gt; | V2 &lt;int&gt; | V3 &lt;dbl&gt; | V4 &lt;chr&gt; | V5 &lt;dbl&gt; | V6 &lt;dbl&gt; | V7 &lt;int&gt; | V8 &lt;int&gt; | V9 &lt;chr&gt; |\n",
       "|---|---|---|---|---|---|---|---|---|---|\n",
       "| 1 | 18 | 8 | 307 | 130.0 | 3504 | 12.0 | 70 | 1 | chevrolet chevelle malibu |\n",
       "| 2 | 15 | 8 | 350 | 165.0 | 3693 | 11.5 | 70 | 1 | buick skylark 320         |\n",
       "| 3 | 18 | 8 | 318 | 150.0 | 3436 | 11.0 | 70 | 1 | plymouth satellite        |\n",
       "| 4 | 16 | 8 | 304 | 150.0 | 3433 | 12.0 | 70 | 1 | amc rebel sst             |\n",
       "| 5 | 17 | 8 | 302 | 140.0 | 3449 | 10.5 | 70 | 1 | ford torino               |\n",
       "| 6 | 15 | 8 | 429 | 198.0 | 4341 | 10.0 | 70 | 1 | ford galaxie 500          |\n",
       "\n"
      ],
      "text/plain": [
       "  V1 V2 V3  V4    V5   V6   V7 V8 V9                       \n",
       "1 18 8  307 130.0 3504 12.0 70 1  chevrolet chevelle malibu\n",
       "2 15 8  350 165.0 3693 11.5 70 1  buick skylark 320        \n",
       "3 18 8  318 150.0 3436 11.0 70 1  plymouth satellite       \n",
       "4 16 8  304 150.0 3433 12.0 70 1  amc rebel sst            \n",
       "5 17 8  302 140.0 3449 10.5 70 1  ford torino              \n",
       "6 15 8  429 198.0 4341 10.0 70 1  ford galaxie 500         "
      ]
     },
     "metadata": {},
     "output_type": "display_data"
    }
   ],
   "source": [
    "# Convert from .data file to a dataframe\n",
    "raw_mpg_data <- read.delim(\"data/localfile.data\", sep= \"\", header = FALSE)\n",
    "\n",
    "head(raw_mpg_data)"
   ]
  },
  {
   "cell_type": "markdown",
   "id": "a4b741b8-474b-47b7-bf3b-5e6ee8e87b01",
   "metadata": {},
   "source": [
    "**Explanation**: The raw data is auto-mpg-1.data with 9 columns V1-V9 including data type real number, integer and categorical."
   ]
  },
  {
   "cell_type": "code",
   "execution_count": 36,
   "id": "0787ebd2-6d05-452f-af75-268dd2967d7a",
   "metadata": {
    "vscode": {
     "languageId": "r"
    }
   },
   "outputs": [
    {
     "name": "stderr",
     "output_type": "stream",
     "text": [
      "Warning message in mask$eval_all_mutate(quo):\n",
      "\"NAs introduced by coercion\"\n"
     ]
    },
    {
     "data": {
      "text/html": [
       "<table class=\"dataframe\">\n",
       "<caption>A data.frame: 6 × 6</caption>\n",
       "<thead>\n",
       "\t<tr><th></th><th scope=col>mpg</th><th scope=col>cylinders</th><th scope=col>displacement</th><th scope=col>horsepower</th><th scope=col>weight</th><th scope=col>acceleration</th></tr>\n",
       "\t<tr><th></th><th scope=col>&lt;dbl&gt;</th><th scope=col>&lt;fct&gt;</th><th scope=col>&lt;dbl&gt;</th><th scope=col>&lt;int&gt;</th><th scope=col>&lt;dbl&gt;</th><th scope=col>&lt;dbl&gt;</th></tr>\n",
       "</thead>\n",
       "<tbody>\n",
       "\t<tr><th scope=row>1</th><td>18</td><td>8</td><td>307</td><td>130</td><td>3504</td><td>12.0</td></tr>\n",
       "\t<tr><th scope=row>2</th><td>15</td><td>8</td><td>350</td><td>165</td><td>3693</td><td>11.5</td></tr>\n",
       "\t<tr><th scope=row>3</th><td>18</td><td>8</td><td>318</td><td>150</td><td>3436</td><td>11.0</td></tr>\n",
       "\t<tr><th scope=row>4</th><td>16</td><td>8</td><td>304</td><td>150</td><td>3433</td><td>12.0</td></tr>\n",
       "\t<tr><th scope=row>5</th><td>17</td><td>8</td><td>302</td><td>140</td><td>3449</td><td>10.5</td></tr>\n",
       "\t<tr><th scope=row>6</th><td>15</td><td>8</td><td>429</td><td>198</td><td>4341</td><td>10.0</td></tr>\n",
       "</tbody>\n",
       "</table>\n"
      ],
      "text/latex": [
       "A data.frame: 6 × 6\n",
       "\\begin{tabular}{r|llllll}\n",
       "  & mpg & cylinders & displacement & horsepower & weight & acceleration\\\\\n",
       "  & <dbl> & <fct> & <dbl> & <int> & <dbl> & <dbl>\\\\\n",
       "\\hline\n",
       "\t1 & 18 & 8 & 307 & 130 & 3504 & 12.0\\\\\n",
       "\t2 & 15 & 8 & 350 & 165 & 3693 & 11.5\\\\\n",
       "\t3 & 18 & 8 & 318 & 150 & 3436 & 11.0\\\\\n",
       "\t4 & 16 & 8 & 304 & 150 & 3433 & 12.0\\\\\n",
       "\t5 & 17 & 8 & 302 & 140 & 3449 & 10.5\\\\\n",
       "\t6 & 15 & 8 & 429 & 198 & 4341 & 10.0\\\\\n",
       "\\end{tabular}\n"
      ],
      "text/markdown": [
       "\n",
       "A data.frame: 6 × 6\n",
       "\n",
       "| <!--/--> | mpg &lt;dbl&gt; | cylinders &lt;fct&gt; | displacement &lt;dbl&gt; | horsepower &lt;int&gt; | weight &lt;dbl&gt; | acceleration &lt;dbl&gt; |\n",
       "|---|---|---|---|---|---|---|\n",
       "| 1 | 18 | 8 | 307 | 130 | 3504 | 12.0 |\n",
       "| 2 | 15 | 8 | 350 | 165 | 3693 | 11.5 |\n",
       "| 3 | 18 | 8 | 318 | 150 | 3436 | 11.0 |\n",
       "| 4 | 16 | 8 | 304 | 150 | 3433 | 12.0 |\n",
       "| 5 | 17 | 8 | 302 | 140 | 3449 | 10.5 |\n",
       "| 6 | 15 | 8 | 429 | 198 | 4341 | 10.0 |\n",
       "\n"
      ],
      "text/plain": [
       "  mpg cylinders displacement horsepower weight acceleration\n",
       "1 18  8         307          130        3504   12.0        \n",
       "2 15  8         350          165        3693   11.5        \n",
       "3 18  8         318          150        3436   11.0        \n",
       "4 16  8         304          150        3433   12.0        \n",
       "5 17  8         302          140        3449   10.5        \n",
       "6 15  8         429          198        4341   10.0        "
      ]
     },
     "metadata": {},
     "output_type": "display_data"
    },
    {
     "data": {
      "text/html": [
       "<style>\n",
       ".list-inline {list-style: none; margin:0; padding: 0}\n",
       ".list-inline>li {display: inline-block}\n",
       ".list-inline>li:not(:last-child)::after {content: \"\\00b7\"; padding: 0 .5ex}\n",
       "</style>\n",
       "<ol class=list-inline><li>'3'</li><li>'4'</li><li>'5'</li><li>'6'</li><li>'8'</li></ol>\n"
      ],
      "text/latex": [
       "\\begin{enumerate*}\n",
       "\\item '3'\n",
       "\\item '4'\n",
       "\\item '5'\n",
       "\\item '6'\n",
       "\\item '8'\n",
       "\\end{enumerate*}\n"
      ],
      "text/markdown": [
       "1. '3'\n",
       "2. '4'\n",
       "3. '5'\n",
       "4. '6'\n",
       "5. '8'\n",
       "\n",
       "\n"
      ],
      "text/plain": [
       "[1] \"3\" \"4\" \"5\" \"6\" \"8\""
      ]
     },
     "metadata": {},
     "output_type": "display_data"
    },
    {
     "name": "stdout",
     "output_type": "stream",
     "text": [
      "[1] \"Number of rows\"\n"
     ]
    },
    {
     "data": {
      "text/html": [
       "392"
      ],
      "text/latex": [
       "392"
      ],
      "text/markdown": [
       "392"
      ],
      "text/plain": [
       "[1] 392"
      ]
     },
     "metadata": {},
     "output_type": "display_data"
    }
   ],
   "source": [
    "mpg_data_tidy <- raw_mpg_data %>%\n",
    "        mutate(mpg = V1, cylinders = as.factor(V2), displacement =V3, horsepower = as.integer(V4), \n",
    "                    weight = V5, acceleration = V6, model_year = V7, origin = V8) %>%\n",
    "        select(mpg,cylinders,displacement,horsepower,weight,acceleration,model_year,origin)\n",
    "\n",
    "\n",
    "mpg_data <- mpg_data_tidy %>% \n",
    "        select(mpg,cylinders,displacement,horsepower,weight,acceleration) %>%\n",
    "        filter(!is.na(mpg_data_tidy$horsepower)) \n",
    "\n",
    "\n",
    "head(mpg_data)\n",
    "levels(mpg_data$cylinders)\n",
    "print(\"Number of rows\")\n",
    "nrow(mpg_data)"
   ]
  },
  {
   "cell_type": "code",
   "execution_count": 37,
   "id": "b4139e8d-ec3c-4875-a681-73eadf377bbf",
   "metadata": {
    "vscode": {
     "languageId": "r"
    }
   },
   "outputs": [
    {
     "data": {
      "image/png": "[encoded data removed]",
      "text/plain": [
       "plot without title"
      ]
     },
     "metadata": {
      "image/png": {
       "height": 360,
       "width": 480
      }
     },
     "output_type": "display_data"
    }
   ],
   "source": [
    "p<-ggplot(data=mpg_data, aes(x=cylinders, y=mpg)) +\n",
    "  geom_bar(stat=\"identity\")\n",
    "ggdraw(add_sub(p, \"FIGURE 1.1: Plot of Cylinders vs. MPG\", \n",
    "               size = 15, color = \"darkgrey\"))\n"
   ]
  },
  {
   "cell_type": "code",
   "execution_count": 38,
   "id": "14383d5a-b7b2-493c-9c5b-856d5997d371",
   "metadata": {
    "vscode": {
     "languageId": "r"
    }
   },
   "outputs": [
    {
     "data": {
      "text/html": [
       "<table class=\"dataframe\">\n",
       "<caption>A data.frame: 6 × 6</caption>\n",
       "<thead>\n",
       "\t<tr><th></th><th scope=col>mpg</th><th scope=col>cylinders</th><th scope=col>displacement</th><th scope=col>horsepower</th><th scope=col>weight</th><th scope=col>acceleration</th></tr>\n",
       "\t<tr><th></th><th scope=col>&lt;dbl&gt;</th><th scope=col>&lt;chr&gt;</th><th scope=col>&lt;dbl&gt;</th><th scope=col>&lt;int&gt;</th><th scope=col>&lt;dbl&gt;</th><th scope=col>&lt;dbl&gt;</th></tr>\n",
       "</thead>\n",
       "<tbody>\n",
       "\t<tr><th scope=row>1</th><td>18</td><td>high</td><td>307</td><td>130</td><td>3504</td><td>12.0</td></tr>\n",
       "\t<tr><th scope=row>2</th><td>15</td><td>high</td><td>350</td><td>165</td><td>3693</td><td>11.5</td></tr>\n",
       "\t<tr><th scope=row>3</th><td>18</td><td>high</td><td>318</td><td>150</td><td>3436</td><td>11.0</td></tr>\n",
       "\t<tr><th scope=row>4</th><td>16</td><td>high</td><td>304</td><td>150</td><td>3433</td><td>12.0</td></tr>\n",
       "\t<tr><th scope=row>5</th><td>17</td><td>high</td><td>302</td><td>140</td><td>3449</td><td>10.5</td></tr>\n",
       "\t<tr><th scope=row>6</th><td>15</td><td>high</td><td>429</td><td>198</td><td>4341</td><td>10.0</td></tr>\n",
       "</tbody>\n",
       "</table>\n"
      ],
      "text/latex": [
       "A data.frame: 6 × 6\n",
       "\\begin{tabular}{r|llllll}\n",
       "  & mpg & cylinders & displacement & horsepower & weight & acceleration\\\\\n",
       "  & <dbl> & <chr> & <dbl> & <int> & <dbl> & <dbl>\\\\\n",
       "\\hline\n",
       "\t1 & 18 & high & 307 & 130 & 3504 & 12.0\\\\\n",
       "\t2 & 15 & high & 350 & 165 & 3693 & 11.5\\\\\n",
       "\t3 & 18 & high & 318 & 150 & 3436 & 11.0\\\\\n",
       "\t4 & 16 & high & 304 & 150 & 3433 & 12.0\\\\\n",
       "\t5 & 17 & high & 302 & 140 & 3449 & 10.5\\\\\n",
       "\t6 & 15 & high & 429 & 198 & 4341 & 10.0\\\\\n",
       "\\end{tabular}\n"
      ],
      "text/markdown": [
       "\n",
       "A data.frame: 6 × 6\n",
       "\n",
       "| <!--/--> | mpg &lt;dbl&gt; | cylinders &lt;chr&gt; | displacement &lt;dbl&gt; | horsepower &lt;int&gt; | weight &lt;dbl&gt; | acceleration &lt;dbl&gt; |\n",
       "|---|---|---|---|---|---|---|\n",
       "| 1 | 18 | high | 307 | 130 | 3504 | 12.0 |\n",
       "| 2 | 15 | high | 350 | 165 | 3693 | 11.5 |\n",
       "| 3 | 18 | high | 318 | 150 | 3436 | 11.0 |\n",
       "| 4 | 16 | high | 304 | 150 | 3433 | 12.0 |\n",
       "| 5 | 17 | high | 302 | 140 | 3449 | 10.5 |\n",
       "| 6 | 15 | high | 429 | 198 | 4341 | 10.0 |\n",
       "\n"
      ],
      "text/plain": [
       "  mpg cylinders displacement horsepower weight acceleration\n",
       "1 18  high      307          130        3504   12.0        \n",
       "2 15  high      350          165        3693   11.5        \n",
       "3 18  high      318          150        3436   11.0        \n",
       "4 16  high      304          150        3433   12.0        \n",
       "5 17  high      302          140        3449   10.5        \n",
       "6 15  high      429          198        4341   10.0        "
      ]
     },
     "metadata": {},
     "output_type": "display_data"
    }
   ],
   "source": [
    "mpg_data <- mpg_data %>%\n",
    "  mutate(cylinders= ifelse(cylinders == '3',\"low\",\n",
    "                             ifelse(cylinders == '4', \"low\",\n",
    "                                    ifelse(cylinders == '5', \"high\",\n",
    "                                           ifelse(cylinders == '6', \"high\", \n",
    "                                                  ifelse(cylinders == '8', \"high\",NA)))))) \n",
    "\n",
    "\n",
    "head(mpg_data)\n"
   ]
  },
  {
   "attachments": {},
   "cell_type": "markdown",
   "id": "786ed8cf-ce4e-4f47-8116-1f05ec2efa5d",
   "metadata": {},
   "source": [
    "**Explanation**: we rename all the columns to proper names and turn the type of cylinders into factor since it is a categorical \n",
    "variable with only 5 levels. And we delete rows with a missing data. Also turn the type of horsepower into integer, and then we \n",
    "get rid of column V7,V9 which represents car name, model_year,and origin. car name includes over 100 different strings, and\n",
    "it makes no sense to turn it into a categorical variable,so we decide to take away this column, for model_year, it is a discrete \n",
    "variable which is also over 10 different levels,so we decide to get rid of it to avoid complications. For origin the data does not provide information \n",
    "with what 1,2,3 represent so, we won't use this column."
   ]
  },
  {
   "cell_type": "markdown",
   "id": "82b8cf35-a0a4-46a7-8f86-6f481820327d",
   "metadata": {},
   "source": [
    "#### III. Plots"
   ]
  },
  {
   "cell_type": "code",
   "execution_count": 39,
   "id": "91b6522d-b0de-4c55-a720-95678251c0db",
   "metadata": {
    "vscode": {
     "languageId": "r"
    }
   },
   "outputs": [
    {
     "data": {
      "image/png": "[encoded data removed]",
      "text/plain": [
       "plot without title"
      ]
     },
     "metadata": {
      "image/png": {
       "height": 720,
       "width": 900
      }
     },
     "output_type": "display_data"
    }
   ],
   "source": [
    "options(repr.plot.width = 15, repr.plot.height = 12)\n",
    "\n",
    "correlation_plots <- mpg_data %>%\n",
    "  select(- cylinders) %>%\n",
    "  ggpairs(progress = FALSE) +\n",
    "  theme(\n",
    "    text = element_text(size = 15),\n",
    "    plot.title = element_text(face = \"bold\"),\n",
    "    axis.title = element_text(face = \"bold\"),\n",
    "    plot.caption = element_text(color = \"darkgrey\", size = 18, hjust = 0.5, vjust = 1)\n",
    "  ) + \n",
    "  labs(caption = \"Figure 2.1: Relationships between pairs of variables in MPG data set.\")\n",
    "  \n",
    "  \n",
    "correlation_plots"
   ]
  },
  {
   "cell_type": "markdown",
   "id": "56011ea7-5beb-4e29-8264-e96a9d3cdf04",
   "metadata": {
    "vscode": {
     "languageId": "r"
    }
   },
   "source": [
    "**Explanation**: The correlation plots show the scatterplot of each pair of variables, so that the shape and correlation between variables are clear to see.  Weight and displacement seems to have a very high positive correlation which is 0.933, weight and mpg has a very high negative correlation which is -0.832. The "
   ]
  },
  {
   "cell_type": "code",
   "execution_count": 11,
   "id": "53e7f103-de16-4ff4-becf-1e4744fd4eb2",
   "metadata": {
    "vscode": {
     "languageId": "r"
    }
   },
   "outputs": [
    {
     "data": {
      "image/png": "[encoded data removed]",
      "text/plain": [
       "Plot with title \"Histogram of mpg\""
      ]
     },
     "metadata": {
      "image/png": {
       "height": 360,
       "width": 480
      }
     },
     "output_type": "display_data"
    }
   ],
   "source": [
    "options(repr.plot.width = 8, repr.plot.height = 6)\n",
    "hist(mpg_data$mpg,\n",
    "    main=\"Histogram of mpg\",\n",
    "    xlab=\"mpg\",\n",
    "    sub = \"FIGURE 2.2: Histogram of mpg\",\n",
    "    cex.sub = 1.2,\n",
    "    col.sub = \"darkgrey\")"
   ]
  },
  {
   "cell_type": "markdown",
   "id": "ad4e3620-e5b9-4c7b-a29f-26a6e4a28b74",
   "metadata": {},
   "source": [
    "**Explanation**: This histogram shows the distribution of our response variable \"mpg\", which is \"roughly\" a normal distibution"
   ]
  },
  {
   "cell_type": "code",
   "execution_count": 12,
   "id": "9ec0c80f-e443-4544-843f-ebfeaeb308fd",
   "metadata": {
    "vscode": {
     "languageId": "r"
    }
   },
   "outputs": [
    {
     "data": {
      "text/plain": [
       "   Min. 1st Qu.  Median    Mean 3rd Qu.    Max. \n",
       "   9.00   17.00   22.75   23.45   29.00   46.60 "
      ]
     },
     "metadata": {},
     "output_type": "display_data"
    }
   ],
   "source": [
    "summary(mpg_data$mpg)"
   ]
  },
  {
   "cell_type": "markdown",
   "id": "834dba39",
   "metadata": {},
   "source": [
    "### Dataset Dividing"
   ]
  },
  {
   "cell_type": "code",
   "execution_count": 13,
   "id": "2f33f153",
   "metadata": {
    "vscode": {
     "languageId": "r"
    }
   },
   "outputs": [],
   "source": [
    "set.seed(1234)\n",
    "\n",
    "mpg_data$ID <- 1:nrow(mpg_data)\n",
    "training_mpg <- sample_n(mpg_data, size = nrow(mpg_data) * 0.60,\n",
    "  replace = FALSE\n",
    ")\n",
    "\n",
    "testing_mpg <- anti_join(mpg_data,\n",
    "  training_mpg,\n",
    "  by = \"ID\"\n",
    ")\n",
    "\n",
    "\n",
    "\n",
    "training_mpg <- training_mpg %>% select(-\"ID\")\n",
    "testing_mpg <- testing_mpg %>% select(-\"ID\")\n",
    "\n",
    "mpg_X_train <- training_mpg %>% select(-\"mpg\")  %>% data.matrix()\n",
    "mpg_Y_train <- training_mpg %>% select(\"mpg\")  %>% data.matrix()\n",
    "\n",
    "\n",
    "mpg_X_test <- testing_mpg %>% select(-\"mpg\")  %>% data.matrix()\n",
    "mpg_Y_test <- testing_mpg %>% select(\"mpg\")  %>% data.matrix()\n"
   ]
  },
  {
   "cell_type": "markdown",
   "id": "d47cdef7",
   "metadata": {},
   "source": [
    "Here we are splitting the data into a training and a test set. We do this to make sure we are testing on new data at the end."
   ]
  },
  {
   "cell_type": "markdown",
   "id": "864b46bf-347f-42d3-8782-aa8f1e3e332f",
   "metadata": {},
   "source": [
    "### Forward selection"
   ]
  },
  {
   "cell_type": "code",
   "execution_count": 14,
   "id": "d756d79a-c6d9-439d-9af9-542a0e7914dd",
   "metadata": {
    "vscode": {
     "languageId": "r"
    }
   },
   "outputs": [
    {
     "data": {
      "text/plain": [
       "Subset selection object\n",
       "Call: regsubsets.formula(x = mpg ~ ., nvmax = 5, data = training_mpg, \n",
       "    method = \"forward\", )\n",
       "8 Variables  (and intercept)\n",
       "             Forced in Forced out\n",
       "cylinders4       FALSE      FALSE\n",
       "cylinders5       FALSE      FALSE\n",
       "cylinders6       FALSE      FALSE\n",
       "cylinders8       FALSE      FALSE\n",
       "displacement     FALSE      FALSE\n",
       "horsepower       FALSE      FALSE\n",
       "weight           FALSE      FALSE\n",
       "acceleration     FALSE      FALSE\n",
       "1 subsets of each size up to 5\n",
       "Selection Algorithm: forward\n",
       "         cylinders4 cylinders5 cylinders6 cylinders8 displacement horsepower\n",
       "1  ( 1 ) \" \"        \" \"        \" \"        \" \"        \" \"          \" \"       \n",
       "2  ( 1 ) \"*\"        \" \"        \" \"        \" \"        \" \"          \" \"       \n",
       "3  ( 1 ) \"*\"        \" \"        \" \"        \" \"        \" \"          \"*\"       \n",
       "4  ( 1 ) \"*\"        \"*\"        \" \"        \" \"        \" \"          \"*\"       \n",
       "5  ( 1 ) \"*\"        \"*\"        \" \"        \" \"        \"*\"          \"*\"       \n",
       "         weight acceleration\n",
       "1  ( 1 ) \"*\"    \" \"         \n",
       "2  ( 1 ) \"*\"    \" \"         \n",
       "3  ( 1 ) \"*\"    \" \"         \n",
       "4  ( 1 ) \"*\"    \" \"         \n",
       "5  ( 1 ) \"*\"    \" \"         "
      ]
     },
     "metadata": {},
     "output_type": "display_data"
    }
   ],
   "source": [
    "mpg_forward_sel <- regsubsets(\n",
    "  x = mpg ~ ., nvmax = 5,\n",
    "  data = training_mpg,\n",
    "  method = \"forward\",\n",
    ")\n",
    "    \n",
    "mpg_forward_summary <- summary(mpg_forward_sel)\n",
    "mpg_forward_summary"
   ]
  },
  {
   "cell_type": "code",
   "execution_count": 15,
   "id": "eb0d62c4-4674-4a37-bb88-392b038540ac",
   "metadata": {
    "vscode": {
     "languageId": "r"
    }
   },
   "outputs": [
    {
     "data": {
      "text/html": [
       "<table class=\"dataframe\">\n",
       "<caption>A tibble: 5 × 6</caption>\n",
       "<thead>\n",
       "\t<tr><th scope=col>n_input_variables</th><th scope=col>RSQ</th><th scope=col>RSS</th><th scope=col>ADJ.R2</th><th scope=col>Cp</th><th scope=col>BIC</th></tr>\n",
       "\t<tr><th scope=col>&lt;int&gt;</th><th scope=col>&lt;dbl&gt;</th><th scope=col>&lt;dbl&gt;</th><th scope=col>&lt;dbl&gt;</th><th scope=col>&lt;dbl&gt;</th><th scope=col>&lt;dbl&gt;</th></tr>\n",
       "</thead>\n",
       "<tbody>\n",
       "\t<tr><td>1</td><td>0.6806115</td><td>4664.264</td><td>0.6792407</td><td>47.61267</td><td>-257.2974</td></tr>\n",
       "\t<tr><td>2</td><td>0.7074661</td><td>4272.086</td><td>0.7049443</td><td>26.18655</td><td>-272.4773</td></tr>\n",
       "\t<tr><td>3</td><td>0.7229292</td><td>4046.268</td><td>0.7193309</td><td>14.69761</td><td>-279.7800</td></tr>\n",
       "\t<tr><td>4</td><td>0.7295746</td><td>3949.220</td><td>0.7248716</td><td>10.90061</td><td>-280.0254</td></tr>\n",
       "\t<tr><td>5</td><td>0.7374277</td><td>3834.535</td><td>0.7316947</td><td> 6.05006</td><td>-281.4913</td></tr>\n",
       "</tbody>\n",
       "</table>\n"
      ],
      "text/latex": [
       "A tibble: 5 × 6\n",
       "\\begin{tabular}{llllll}\n",
       " n\\_input\\_variables & RSQ & RSS & ADJ.R2 & Cp & BIC\\\\\n",
       " <int> & <dbl> & <dbl> & <dbl> & <dbl> & <dbl>\\\\\n",
       "\\hline\n",
       "\t 1 & 0.6806115 & 4664.264 & 0.6792407 & 47.61267 & -257.2974\\\\\n",
       "\t 2 & 0.7074661 & 4272.086 & 0.7049443 & 26.18655 & -272.4773\\\\\n",
       "\t 3 & 0.7229292 & 4046.268 & 0.7193309 & 14.69761 & -279.7800\\\\\n",
       "\t 4 & 0.7295746 & 3949.220 & 0.7248716 & 10.90061 & -280.0254\\\\\n",
       "\t 5 & 0.7374277 & 3834.535 & 0.7316947 &  6.05006 & -281.4913\\\\\n",
       "\\end{tabular}\n"
      ],
      "text/markdown": [
       "\n",
       "A tibble: 5 × 6\n",
       "\n",
       "| n_input_variables &lt;int&gt; | RSQ &lt;dbl&gt; | RSS &lt;dbl&gt; | ADJ.R2 &lt;dbl&gt; | Cp &lt;dbl&gt; | BIC &lt;dbl&gt; |\n",
       "|---|---|---|---|---|---|\n",
       "| 1 | 0.6806115 | 4664.264 | 0.6792407 | 47.61267 | -257.2974 |\n",
       "| 2 | 0.7074661 | 4272.086 | 0.7049443 | 26.18655 | -272.4773 |\n",
       "| 3 | 0.7229292 | 4046.268 | 0.7193309 | 14.69761 | -279.7800 |\n",
       "| 4 | 0.7295746 | 3949.220 | 0.7248716 | 10.90061 | -280.0254 |\n",
       "| 5 | 0.7374277 | 3834.535 | 0.7316947 |  6.05006 | -281.4913 |\n",
       "\n"
      ],
      "text/plain": [
       "  n_input_variables RSQ       RSS      ADJ.R2    Cp       BIC      \n",
       "1 1                 0.6806115 4664.264 0.6792407 47.61267 -257.2974\n",
       "2 2                 0.7074661 4272.086 0.7049443 26.18655 -272.4773\n",
       "3 3                 0.7229292 4046.268 0.7193309 14.69761 -279.7800\n",
       "4 4                 0.7295746 3949.220 0.7248716 10.90061 -280.0254\n",
       "5 5                 0.7374277 3834.535 0.7316947  6.05006 -281.4913"
      ]
     },
     "metadata": {},
     "output_type": "display_data"
    }
   ],
   "source": [
    "mpg_forward_summary_df <- tibble(\n",
    "    n_input_variables = 1:5,\n",
    "    RSQ = mpg_forward_summary$rsq,\n",
    "    RSS = mpg_forward_summary$rss,\n",
    "    ADJ.R2 = mpg_forward_summary$adjr2,\n",
    "    Cp = mpg_forward_summary$cp,\n",
    "    BIC = mpg_forward_summary$bic,\n",
    ")\n",
    "mpg_forward_summary_df"
   ]
  },
  {
   "cell_type": "code",
   "execution_count": 20,
   "id": "7408c5d0-cbf9-41f3-a6e6-693cdc79463e",
   "metadata": {
    "vscode": {
     "languageId": "r"
    }
   },
   "outputs": [
    {
     "data": {
      "image/png": "[encoded data removed]",
      "text/plain": [
       "Plot with title \"Cp for forward selection\""
      ]
     },
     "metadata": {
      "image/png": {
       "height": 360,
       "width": 480
      }
     },
     "output_type": "display_data"
    }
   ],
   "source": [
    "plot(summary(mpg_forward_sel)$cp,\n",
    "  main = \"Cp for forward selection\",\n",
    "  xlab = \"Number of Input Variables\", ylab = \"Rsq\", type = \"b\", pch = 5,\n",
    "   col = \"red\", sub = \"Figure 3.1: Cp for forward selection\", col.sub = \"darkgrey\", cex.sub = 1.2\n",
    ")"
   ]
  },
  {
   "cell_type": "code",
   "execution_count": 17,
   "id": "c7db095c",
   "metadata": {
    "vscode": {
     "languageId": "r"
    }
   },
   "outputs": [
    {
     "data": {
      "text/plain": [
       "Subset selection object\n",
       "Call: regsubsets.formula(x = mpg ~ ., nvmax = 5, data = training_mpg, \n",
       "    method = \"forward\", )\n",
       "8 Variables  (and intercept)\n",
       "             Forced in Forced out\n",
       "cylinders4       FALSE      FALSE\n",
       "cylinders5       FALSE      FALSE\n",
       "cylinders6       FALSE      FALSE\n",
       "cylinders8       FALSE      FALSE\n",
       "displacement     FALSE      FALSE\n",
       "horsepower       FALSE      FALSE\n",
       "weight           FALSE      FALSE\n",
       "acceleration     FALSE      FALSE\n",
       "1 subsets of each size up to 5\n",
       "Selection Algorithm: forward\n",
       "         cylinders4 cylinders5 cylinders6 cylinders8 displacement horsepower\n",
       "1  ( 1 ) \" \"        \" \"        \" \"        \" \"        \" \"          \" \"       \n",
       "2  ( 1 ) \"*\"        \" \"        \" \"        \" \"        \" \"          \" \"       \n",
       "3  ( 1 ) \"*\"        \" \"        \" \"        \" \"        \" \"          \"*\"       \n",
       "4  ( 1 ) \"*\"        \"*\"        \" \"        \" \"        \" \"          \"*\"       \n",
       "5  ( 1 ) \"*\"        \"*\"        \" \"        \" \"        \"*\"          \"*\"       \n",
       "         weight acceleration\n",
       "1  ( 1 ) \"*\"    \" \"         \n",
       "2  ( 1 ) \"*\"    \" \"         \n",
       "3  ( 1 ) \"*\"    \" \"         \n",
       "4  ( 1 ) \"*\"    \" \"         \n",
       "5  ( 1 ) \"*\"    \" \"         "
      ]
     },
     "metadata": {},
     "output_type": "display_data"
    }
   ],
   "source": [
    "summary(mpg_forward_sel)"
   ]
  },
  {
   "cell_type": "code",
   "execution_count": 18,
   "id": "81421cf8",
   "metadata": {
    "vscode": {
     "languageId": "r"
    }
   },
   "outputs": [],
   "source": [
    "MPG_Selection_OLS <- lm(mpg ~ cylinders+displacement+horsepower+weight,\n",
    "data = training_mpg\n",
    ")"
   ]
  },
  {
   "cell_type": "markdown",
   "id": "ecf06641",
   "metadata": {},
   "source": [
    "Since we are creating a predictive model we choose the model with the lowest $C_p$\n",
    "\n",
    "The forward selection algorithm with 4 variables chose cylinders, displacement, horsepower, weight. It left out acceleration.\n",
    "\n",
    "This will be tested along with the other models later in this report."
   ]
  },
  {
   "cell_type": "markdown",
   "id": "073edcc1-5cd0-44f6-b6b7-79b2d061134f",
   "metadata": {},
   "source": [
    "### Lasso and Ridge Regression"
   ]
  },
  {
   "cell_type": "code",
   "execution_count": 21,
   "id": "e0a96b1f-8940-47a8-8e15-7d37244aa8cd",
   "metadata": {
    "vscode": {
     "languageId": "r"
    }
   },
   "outputs": [
    {
     "data": {
      "image/png": "[encoded data removed]",
      "text/plain": [
       "Plot with title \"Lambda selection by CV with LASSO\n",
       "\n",
       "\""
      ]
     },
     "metadata": {
      "image/png": {
       "height": 360,
       "width": 480
      }
     },
     "output_type": "display_data"
    },
    {
     "data": {
      "image/png": "[encoded data removed]",
      "text/plain": [
       "Plot with title \"Lambda selection by CV with Ridge\n",
       "\n",
       "\""
      ]
     },
     "metadata": {
      "image/png": {
       "height": 360,
       "width": 480
      }
     },
     "output_type": "display_data"
    }
   ],
   "source": [
    "mpg_cv_lambda_LASSO <- cv.glmnet(\n",
    "  x = mpg_X_train, y = mpg_Y_train,\n",
    "  alpha = 1,\n",
    "  lambda = exp(seq(1, 12, 0.1))\n",
    ")\n",
    "\n",
    "mpg_cv_lambda_RIDGE <- cv.glmnet(\n",
    "  x = mpg_X_train, y = mpg_Y_train,\n",
    "  alpha = 0,\n",
    "  lambda = exp(seq(1, 12, 0.1))\n",
    ")\n",
    "\n",
    "plot(mpg_cv_lambda_LASSO, main = \"Lambda selection by CV with LASSO\\n\\n\",\n",
    "sub = \"Figure 4.1: LASSO Lambda Selection\", col.sub = \"darkgrey\", cex.sub = 1.2)\n",
    "plot(mpg_cv_lambda_RIDGE, main = \"Lambda selection by CV with Ridge\\n\\n\",\n",
    "sub = \"Figure 4.2: RIDGE Lambda Selection\", col.sub = \"darkgrey\", cex.sub = 1.2)"
   ]
  },
  {
   "cell_type": "markdown",
   "id": "43d779da",
   "metadata": {},
   "source": [
    "We will use the lambda that minimizes MSE in both of these. We choose this because we want our model to be as accurate as possible. For the LASSO model using the biggest lambda 1 standard error away also chooses 3 variables so it seems better to pick the minimum."
   ]
  },
  {
   "cell_type": "code",
   "execution_count": 23,
   "id": "1cec0963",
   "metadata": {
    "vscode": {
     "languageId": "r"
    }
   },
   "outputs": [],
   "source": [
    "mpg_lambda_LASSO <- glmnet(\n",
    "  x = mpg_X_train, y = mpg_Y_train,\n",
    "  alpha = 1,\n",
    "  lambda = mpg_cv_lambda_LASSO$lambda.min\n",
    ")\n",
    "\n",
    "mpg_lambda_RIDGE <- glmnet(\n",
    "  x = mpg_X_train, y = mpg_Y_train,\n",
    "  alpha = 0,\n",
    "  lambda = mpg_cv_lambda_RIDGE$lambda.min\n",
    ")"
   ]
  },
  {
   "cell_type": "markdown",
   "id": "972abcd3",
   "metadata": {},
   "source": [
    "This creates the models with the minimum lambda"
   ]
  },
  {
   "cell_type": "markdown",
   "id": "b8aeb499",
   "metadata": {},
   "source": [
    "## Testing"
   ]
  },
  {
   "cell_type": "markdown",
   "id": "0d7a62ee",
   "metadata": {},
   "source": [
    "We will compare OLS, forward selection OLS, Lasso Regression, and Ridge Regression"
   ]
  },
  {
   "cell_type": "code",
   "execution_count": 24,
   "id": "81263849",
   "metadata": {
    "vscode": {
     "languageId": "r"
    }
   },
   "outputs": [
    {
     "name": "stderr",
     "output_type": "stream",
     "text": [
      "Warning message in cbind(Full_OLS = coef(MPG_Full_OLS), Selection_OLS = coef(MPG_Selection_OLS), :\n",
      "\"number of rows of result is not a multiple of vector length (arg 2)\"\n"
     ]
    },
    {
     "data": {
      "text/html": [
       "<table class=\"dataframe\">\n",
       "<caption>A matrix: 9 × 4 of type dbl</caption>\n",
       "<thead>\n",
       "\t<tr><th></th><th scope=col>Full_OLS</th><th scope=col>Selection_OLS</th><th scope=col>LASSO_min</th><th scope=col>RIDGE_min</th></tr>\n",
       "</thead>\n",
       "<tbody>\n",
       "\t<tr><th scope=row>(Intercept)</th><td>39.1809</td><td>36.3943</td><td>35.9054</td><td>40.2535</td></tr>\n",
       "\t<tr><th scope=row>cylinders4</th><td> 7.6954</td><td> 7.1489</td><td>-0.1571</td><td>-1.0871</td></tr>\n",
       "\t<tr><th scope=row>cylinders5</th><td> 9.3734</td><td> 8.8669</td><td> 0.0000</td><td>-0.0109</td></tr>\n",
       "\t<tr><th scope=row>cylinders6</th><td> 2.1990</td><td> 1.7132</td><td>-0.0158</td><td>-0.0426</td></tr>\n",
       "\t<tr><th scope=row>cylinders8</th><td> 3.4375</td><td> 2.9995</td><td>-0.0034</td><td>-0.0022</td></tr>\n",
       "\t<tr><th scope=row>displacement</th><td> 0.0138</td><td> 0.0175</td><td> 0.0000</td><td>-0.0145</td></tr>\n",
       "\t<tr><th scope=row>horsepower</th><td>-0.0838</td><td>-0.0660</td><td>35.9054</td><td>40.2535</td></tr>\n",
       "\t<tr><th scope=row>weight</th><td>-0.0039</td><td>-0.0048</td><td>-0.1571</td><td>-1.0871</td></tr>\n",
       "\t<tr><th scope=row>acceleration</th><td>-0.2204</td><td>36.3943</td><td> 0.0000</td><td>-0.0109</td></tr>\n",
       "</tbody>\n",
       "</table>\n"
      ],
      "text/latex": [
       "A matrix: 9 × 4 of type dbl\n",
       "\\begin{tabular}{r|llll}\n",
       "  & Full\\_OLS & Selection\\_OLS & LASSO\\_min & RIDGE\\_min\\\\\n",
       "\\hline\n",
       "\t(Intercept) & 39.1809 & 36.3943 & 35.9054 & 40.2535\\\\\n",
       "\tcylinders4 &  7.6954 &  7.1489 & -0.1571 & -1.0871\\\\\n",
       "\tcylinders5 &  9.3734 &  8.8669 &  0.0000 & -0.0109\\\\\n",
       "\tcylinders6 &  2.1990 &  1.7132 & -0.0158 & -0.0426\\\\\n",
       "\tcylinders8 &  3.4375 &  2.9995 & -0.0034 & -0.0022\\\\\n",
       "\tdisplacement &  0.0138 &  0.0175 &  0.0000 & -0.0145\\\\\n",
       "\thorsepower & -0.0838 & -0.0660 & 35.9054 & 40.2535\\\\\n",
       "\tweight & -0.0039 & -0.0048 & -0.1571 & -1.0871\\\\\n",
       "\tacceleration & -0.2204 & 36.3943 &  0.0000 & -0.0109\\\\\n",
       "\\end{tabular}\n"
      ],
      "text/markdown": [
       "\n",
       "A matrix: 9 × 4 of type dbl\n",
       "\n",
       "| <!--/--> | Full_OLS | Selection_OLS | LASSO_min | RIDGE_min |\n",
       "|---|---|---|---|---|\n",
       "| (Intercept) | 39.1809 | 36.3943 | 35.9054 | 40.2535 |\n",
       "| cylinders4 |  7.6954 |  7.1489 | -0.1571 | -1.0871 |\n",
       "| cylinders5 |  9.3734 |  8.8669 |  0.0000 | -0.0109 |\n",
       "| cylinders6 |  2.1990 |  1.7132 | -0.0158 | -0.0426 |\n",
       "| cylinders8 |  3.4375 |  2.9995 | -0.0034 | -0.0022 |\n",
       "| displacement |  0.0138 |  0.0175 |  0.0000 | -0.0145 |\n",
       "| horsepower | -0.0838 | -0.0660 | 35.9054 | 40.2535 |\n",
       "| weight | -0.0039 | -0.0048 | -0.1571 | -1.0871 |\n",
       "| acceleration | -0.2204 | 36.3943 |  0.0000 | -0.0109 |\n",
       "\n"
      ],
      "text/plain": [
       "             Full_OLS Selection_OLS LASSO_min RIDGE_min\n",
       "(Intercept)  39.1809  36.3943       35.9054   40.2535  \n",
       "cylinders4    7.6954   7.1489       -0.1571   -1.0871  \n",
       "cylinders5    9.3734   8.8669        0.0000   -0.0109  \n",
       "cylinders6    2.1990   1.7132       -0.0158   -0.0426  \n",
       "cylinders8    3.4375   2.9995       -0.0034   -0.0022  \n",
       "displacement  0.0138   0.0175        0.0000   -0.0145  \n",
       "horsepower   -0.0838  -0.0660       35.9054   40.2535  \n",
       "weight       -0.0039  -0.0048       -0.1571   -1.0871  \n",
       "acceleration -0.2204  36.3943        0.0000   -0.0109  "
      ]
     },
     "metadata": {},
     "output_type": "display_data"
    }
   ],
   "source": [
    "MPG_Full_OLS <- lm(mpg ~ .,\n",
    "data = training_mpg\n",
    ")\n",
    "\n",
    "mpg_lambda_LASSO.coef <- mpg_lambda_LASSO$beta\n",
    "mpg_lambda_RIDGE.coef <- mpg_lambda_RIDGE$beta\n",
    "MPG_coef <- round(cbind(\n",
    "  Full_OLS = coef(MPG_Full_OLS),\n",
    "  Selection_OLS = coef(MPG_Selection_OLS),\n",
    "  LASSO_min = c(\n",
    "    mpg_lambda_LASSO$a0,\n",
    "    as.vector(mpg_lambda_LASSO.coef)\n",
    "  ),\n",
    "  RIDGE_min = c(\n",
    "    mpg_lambda_RIDGE$a0,\n",
    "    as.vector(mpg_lambda_RIDGE.coef)\n",
    "  )\n",
    "\n",
    "), 4)\n",
    "MPG_coef"
   ]
  },
  {
   "cell_type": "markdown",
   "id": "d382e722",
   "metadata": {},
   "source": [
    "These are the coefficients for each model. We can see that LASSO has some variables set to 0, that is because LASSO is able to do variable selection.\n",
    "\n",
    "the regularized models tend to have smaller coefficients with LASSO having the smallest.\n",
    "\n",
    "Something to note is that it seems like Selection_OLS has acceleration as a coefficient, that is not true, it is a consequences of putting them all into the same table. The real model doesn't have acceleration selected."
   ]
  },
  {
   "cell_type": "code",
   "execution_count": 25,
   "id": "0b59b7b3",
   "metadata": {
    "vscode": {
     "languageId": "r"
    }
   },
   "outputs": [],
   "source": [
    "MPG_test_pred_full_OLS <- predict(MPG_Full_OLS, newdata = testing_mpg)\n",
    "\n",
    "MPG_test_pred_selection_OLS <- predict(MPG_Selection_OLS, newdata = testing_mpg)\n",
    "\n",
    "MPG_test_pred_LASSO <- predict(mpg_lambda_LASSO,\n",
    "  newx = mpg_X_test)\n",
    "\n",
    "MPG_test_pred_RIDGE <- predict(mpg_lambda_RIDGE,\n",
    "  newx = mpg_X_test)"
   ]
  },
  {
   "cell_type": "markdown",
   "id": "cf1e965a",
   "metadata": {},
   "source": [
    "Here we are predicting on each model"
   ]
  },
  {
   "cell_type": "code",
   "execution_count": 26,
   "id": "498393f5",
   "metadata": {
    "vscode": {
     "languageId": "r"
    }
   },
   "outputs": [
    {
     "data": {
      "text/html": [
       "<table class=\"dataframe\">\n",
       "<caption>A tibble: 4 × 2</caption>\n",
       "<thead>\n",
       "\t<tr><th scope=col>Model</th><th scope=col>R_MSE</th></tr>\n",
       "\t<tr><th scope=col>&lt;chr&gt;</th><th scope=col>&lt;dbl&gt;</th></tr>\n",
       "</thead>\n",
       "<tbody>\n",
       "\t<tr><td>OLS Full Regression              </td><td>3.967519</td></tr>\n",
       "\t<tr><td>OLS Selection Regression         </td><td>3.933406</td></tr>\n",
       "\t<tr><td>LASSO Regression with minimum MSE</td><td>5.060230</td></tr>\n",
       "\t<tr><td>RIDGE Regression with minimum MSE</td><td>4.183918</td></tr>\n",
       "</tbody>\n",
       "</table>\n"
      ],
      "text/latex": [
       "A tibble: 4 × 2\n",
       "\\begin{tabular}{ll}\n",
       " Model & R\\_MSE\\\\\n",
       " <chr> & <dbl>\\\\\n",
       "\\hline\n",
       "\t OLS Full Regression               & 3.967519\\\\\n",
       "\t OLS Selection Regression          & 3.933406\\\\\n",
       "\t LASSO Regression with minimum MSE & 5.060230\\\\\n",
       "\t RIDGE Regression with minimum MSE & 4.183918\\\\\n",
       "\\end{tabular}\n"
      ],
      "text/markdown": [
       "\n",
       "A tibble: 4 × 2\n",
       "\n",
       "| Model &lt;chr&gt; | R_MSE &lt;dbl&gt; |\n",
       "|---|---|\n",
       "| OLS Full Regression               | 3.967519 |\n",
       "| OLS Selection Regression          | 3.933406 |\n",
       "| LASSO Regression with minimum MSE | 5.060230 |\n",
       "| RIDGE Regression with minimum MSE | 4.183918 |\n",
       "\n"
      ],
      "text/plain": [
       "  Model                             R_MSE   \n",
       "1 OLS Full Regression               3.967519\n",
       "2 OLS Selection Regression          3.933406\n",
       "3 LASSO Regression with minimum MSE 5.060230\n",
       "4 RIDGE Regression with minimum MSE 4.183918"
      ]
     },
     "metadata": {},
     "output_type": "display_data"
    }
   ],
   "source": [
    "mpg_RMSE_models <- rbind(tibble(\n",
    "  Model = \"OLS Full Regression\",\n",
    "  R_MSE = rmse(\n",
    "    preds = MPG_test_pred_full_OLS,\n",
    "    actuals = testing_mpg$mpg\n",
    "  )\n",
    "),tibble(\n",
    "  Model = \"OLS Selection Regression\",\n",
    "  R_MSE = rmse(\n",
    "    preds = MPG_test_pred_selection_OLS,\n",
    "    actuals = testing_mpg$mpg\n",
    "  )\n",
    "),\n",
    "    tibble(\n",
    "    Model = \"LASSO Regression with minimum MSE\",\n",
    "    R_MSE = rmse(\n",
    "      preds = MPG_test_pred_LASSO,\n",
    "      actuals = testing_mpg$mpg\n",
    "    ),\n",
    "  ),\n",
    "  tibble(\n",
    "    Model = \"RIDGE Regression with minimum MSE\",\n",
    "    R_MSE = rmse(\n",
    "      preds = MPG_test_pred_RIDGE,\n",
    "      actuals = testing_mpg$mpg\n",
    "    )\n",
    "  )\n",
    ")\n",
    "mpg_RMSE_models"
   ]
  },
  {
   "cell_type": "markdown",
   "id": "61cdc007",
   "metadata": {},
   "source": [
    "From this we see that OLS with Selection performed the best because it has the lowest RMSE. Full OLS almost does as well, with RIDGE being third and LASSO doing the worse."
   ]
  },
  {
   "cell_type": "code",
   "execution_count": 27,
   "id": "ed58a32d",
   "metadata": {
    "vscode": {
     "languageId": "r"
    }
   },
   "outputs": [
    {
     "data": {
      "image/png": "[encoded data removed]",
      "text/plain": [
       "plot without title"
      ]
     },
     "metadata": {
      "image/png": {
       "height": 360,
       "width": 480
      }
     },
     "output_type": "display_data"
    }
   ],
   "source": [
    "pred_data = tibble(OLS = MPG_test_pred_selection_OLS,Selection_OLS = MPG_test_pred_selection_OLS,LASSO = as.vector(MPG_test_pred_LASSO), RIDGE = as.vector(MPG_test_pred_RIDGE))\n",
    "correlation_plots <- pred_data %>%\n",
    "  ggpairs() +\n",
    "  theme(\n",
    "    text = element_text(size = 15),\n",
    "    plot.title = element_text(face = \"bold\"),\n",
    "    axis.title = element_text(face = \"bold\")\n",
    "  )+\n",
    "  labs(caption = \"Figure 5.1: Relationships between Model predictions\")\n",
    "correlation_plots"
   ]
  },
  {
   "cell_type": "markdown",
   "id": "440b3bd1",
   "metadata": {},
   "source": [
    "This plot helps quantify the difference between the models. All the models end up with similar predictions. While selection OLS does the best, the other models aren't too far behind.\n"
   ]
  },
  {
   "cell_type": "markdown",
   "id": "64f7110b",
   "metadata": {},
   "source": [
    "## Discussion"
   ]
  },
  {
   "attachments": {},
   "cell_type": "markdown",
   "id": "49ab21d6",
   "metadata": {},
   "source": [
    "\n",
    "We found out that the most important variables selected with forward selection which ended up having the best test error are cylinders, displacement, horsepower, weight.\n",
    "We were able to relatively accurately predict the MPG of a vehicle based on the low test error our model produced. This implies that consumers could have a pretty accurate idea of how efficient a vehicle would be before having experience with it.\n",
    "For consumers when choosing a vehicle, one can put the necessary data into the model and it will give an estimated MPG. This is specifically useful for people who are restricted by emission limits or are experiencing financial hardships due to rising fuel prices.\n",
    "\n",
    "\n",
    "We expected to get a relatively accurate measure but we would have expected our prediction to be less accurate. There are many factors that aren't in the dataset which we expected to have an effect and cause more variation in the data. A factor like the amount of years a car has been driven, or how often it gets maintentance.\n",
    "\n",
    "\n",
    "While the variables used in this model are only related to a vehicle itself, other external factors that are not included in our study such as weather, road conditions, traffic conditions, etc would also impact MPG. The dataset is also a bit dated, having more modern data would give better insight for consumers in the current day.\n",
    "\n",
    "\n",
    "Our study could provide insight for future exploration of these possible external factors. In places where there is more traffic or more extreme weather, car performance will likely differ. Different car factors will likely change the MPG based on different environments. \n",
    "A further study building models based on external environmental factors could also help consumers choosing a fuel efficient vehicle fit for their use and environment."
   ]
  },
  {
   "cell_type": "markdown",
   "id": "d78011b0-d184-402c-9403-e605392f2245",
   "metadata": {},
   "source": [
    "## References"
   ]
  },
  {
   "cell_type": "markdown",
   "id": "36f0dd5b-7575-4650-bbfa-1a358cf1da6f",
   "metadata": {},
   "source": [
    "Neelesh A. Patankar, Jane Lin & Tanvee N. Patankar(October, 2021), <em>Mileage efficiency of cars</em>, vol. 4, ScienceDirect. Retrieved November 3, 2022 from https://www.sciencedirect.com/science/article/pii/S2666790821002007#"
   ]
  },
  {
   "cell_type": "markdown",
   "id": "afb54cd4-8fb3-4dcd-8aac-fc6a078a6485",
   "metadata": {},
   "source": [
    "Zoe Long, Christine Kormos, Reuven Sussman & Jonn Axsena (April, 2021), <em>MPG, fuel costs, or savings? \n",
    "Exploring the role of information framing in consumer valuation of fuel economy using a choice experiment</em>, vol 146, ScienceDirect. Retrieved November 3, 2022 from https://www.sciencedirect.com/science/article/pii/S096585642100032X#"
   ]
  }
 ],
 "metadata": {
  "kernelspec": {
   "display_name": "R",
   "language": "R",
   "name": "ir"
  },
  "language_info": {
   "codemirror_mode": "r",
   "file_extension": ".r",
   "mimetype": "text/x-r-source",
   "name": "R",
   "pygments_lexer": "r",
   "version": "4.2.1"
  }
 },
 "nbformat": 4,
 "nbformat_minor": 5
}
